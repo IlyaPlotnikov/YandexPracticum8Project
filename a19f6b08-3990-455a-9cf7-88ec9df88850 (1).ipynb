{
 "cells": [
  {
   "cell_type": "markdown",
   "metadata": {
    "toc": true
   },
   "source": []
  },
  {
   "cell_type": "markdown",
   "metadata": {},
   "source": [
    "# Восстановление золота из руды"
   ]
  },
  {
   "cell_type": "markdown",
   "metadata": {},
   "source": [
    "Подготовьте прототип модели машинного обучения для «Цифры». Компания разрабатывает решения для эффективной работы промышленных предприятий.\n",
    "\n",
    "Модель должна предсказать коэффициент восстановления золота из золотосодержащей руды. Используйте данные с параметрами добычи и очистки. \n",
    "\n",
    "Модель поможет оптимизировать производство, чтобы не запускать предприятие с убыточными характеристиками.\n",
    "\n",
    "Задача:\n",
    "\n",
    "1. Подготовить данные;\n",
    "2. Провести исследовательский анализ данных;\n",
    "3. Построить и обучить модель."
   ]
  },
  {
   "cell_type": "markdown",
   "metadata": {},
   "source": [
    "## Подготовка данных"
   ]
  },
  {
   "cell_type": "markdown",
   "metadata": {},
   "source": [
    "<div class=\"alert alert-info\">\n",
    " <font color='Blue'>\n",
    "     <b>Импорт библиотек"
   ]
  },
  {
   "cell_type": "code",
   "execution_count": 1,
   "metadata": {},
   "outputs": [],
   "source": [
    "import pandas as pd\n",
    "from sklearn.model_selection import train_test_split\n",
    "from sklearn.preprocessing import StandardScaler\n",
    "\n",
    "import numpy as np\n",
    "import warnings\n",
    "from sklearn.ensemble import RandomForestRegressor\n",
    "from sklearn.linear_model import LinearRegression\n",
    "from sklearn import linear_model\n",
    "from sklearn.svm import SVR\n",
    "from sklearn.preprocessing import StandardScaler, MinMaxScaler\n",
    "from sklearn.utils import shuffle\n",
    "from sklearn.model_selection import TimeSeriesSplit, cross_val_score, StratifiedKFold, GridSearchCV, cross_validate, KFold\n",
    "from sklearn.metrics import roc_auc_score, roc_curve, precision_recall_curve, mean_absolute_error, make_scorer, make_scorer\n",
    "from sklearn.pipeline import Pipeline\n",
    "from sklearn.impute import SimpleImputer\n",
    "import matplotlib\n",
    "import matplotlib.pyplot as plt\n",
    "from sklearn.metrics import r2_score\n",
    "from scipy import stats\n",
    "from sklearn.metrics import mean_absolute_error\n",
    "from sklearn.model_selection import KFold\n",
    "from sklearn.dummy import DummyRegressor\n",
    "from scipy import stats as st"
   ]
  },
  {
   "cell_type": "markdown",
   "metadata": {},
   "source": [
    "<div class=\"alert alert-info\">\n",
    " <font color='Blue'>\n",
    "     <b>Подключаем датафреймы"
   ]
  },
  {
   "cell_type": "code",
   "execution_count": 2,
   "metadata": {},
   "outputs": [],
   "source": [
    "df_train=pd.read_csv('/datasets/gold_recovery_train_new.csv')\n",
    "df_test=pd.read_csv('/datasets/gold_recovery_test_new.csv')"
   ]
  },
  {
   "cell_type": "code",
   "execution_count": 3,
   "metadata": {},
   "outputs": [],
   "source": [
    "df=pd.read_csv('/datasets/gold_recovery_full_new.csv')"
   ]
  },
  {
   "cell_type": "code",
   "execution_count": 4,
   "metadata": {},
   "outputs": [
    {
     "data": {
      "text/html": [
       "<div>\n",
       "<style scoped>\n",
       "    .dataframe tbody tr th:only-of-type {\n",
       "        vertical-align: middle;\n",
       "    }\n",
       "\n",
       "    .dataframe tbody tr th {\n",
       "        vertical-align: top;\n",
       "    }\n",
       "\n",
       "    .dataframe thead th {\n",
       "        text-align: right;\n",
       "    }\n",
       "</style>\n",
       "<table border=\"1\" class=\"dataframe\">\n",
       "  <thead>\n",
       "    <tr style=\"text-align: right;\">\n",
       "      <th></th>\n",
       "      <th>date</th>\n",
       "      <th>final.output.concentrate_ag</th>\n",
       "      <th>final.output.concentrate_pb</th>\n",
       "      <th>final.output.concentrate_sol</th>\n",
       "      <th>final.output.concentrate_au</th>\n",
       "      <th>final.output.recovery</th>\n",
       "      <th>final.output.tail_ag</th>\n",
       "      <th>final.output.tail_pb</th>\n",
       "      <th>final.output.tail_sol</th>\n",
       "      <th>final.output.tail_au</th>\n",
       "      <th>...</th>\n",
       "      <th>secondary_cleaner.state.floatbank4_a_air</th>\n",
       "      <th>secondary_cleaner.state.floatbank4_a_level</th>\n",
       "      <th>secondary_cleaner.state.floatbank4_b_air</th>\n",
       "      <th>secondary_cleaner.state.floatbank4_b_level</th>\n",
       "      <th>secondary_cleaner.state.floatbank5_a_air</th>\n",
       "      <th>secondary_cleaner.state.floatbank5_a_level</th>\n",
       "      <th>secondary_cleaner.state.floatbank5_b_air</th>\n",
       "      <th>secondary_cleaner.state.floatbank5_b_level</th>\n",
       "      <th>secondary_cleaner.state.floatbank6_a_air</th>\n",
       "      <th>secondary_cleaner.state.floatbank6_a_level</th>\n",
       "    </tr>\n",
       "  </thead>\n",
       "  <tbody>\n",
       "    <tr>\n",
       "      <th>0</th>\n",
       "      <td>2016-01-15 00:00:00</td>\n",
       "      <td>6.055403</td>\n",
       "      <td>9.889648</td>\n",
       "      <td>5.507324</td>\n",
       "      <td>42.192020</td>\n",
       "      <td>70.541216</td>\n",
       "      <td>10.411962</td>\n",
       "      <td>0.895447</td>\n",
       "      <td>16.904297</td>\n",
       "      <td>2.143149</td>\n",
       "      <td>...</td>\n",
       "      <td>14.016835</td>\n",
       "      <td>-502.488007</td>\n",
       "      <td>12.099931</td>\n",
       "      <td>-504.715942</td>\n",
       "      <td>9.925633</td>\n",
       "      <td>-498.310211</td>\n",
       "      <td>8.079666</td>\n",
       "      <td>-500.470978</td>\n",
       "      <td>14.151341</td>\n",
       "      <td>-605.841980</td>\n",
       "    </tr>\n",
       "    <tr>\n",
       "      <th>1</th>\n",
       "      <td>2016-01-15 01:00:00</td>\n",
       "      <td>6.029369</td>\n",
       "      <td>9.968944</td>\n",
       "      <td>5.257781</td>\n",
       "      <td>42.701629</td>\n",
       "      <td>69.266198</td>\n",
       "      <td>10.462676</td>\n",
       "      <td>0.927452</td>\n",
       "      <td>16.634514</td>\n",
       "      <td>2.224930</td>\n",
       "      <td>...</td>\n",
       "      <td>13.992281</td>\n",
       "      <td>-505.503262</td>\n",
       "      <td>11.950531</td>\n",
       "      <td>-501.331529</td>\n",
       "      <td>10.039245</td>\n",
       "      <td>-500.169983</td>\n",
       "      <td>7.984757</td>\n",
       "      <td>-500.582168</td>\n",
       "      <td>13.998353</td>\n",
       "      <td>-599.787184</td>\n",
       "    </tr>\n",
       "    <tr>\n",
       "      <th>2</th>\n",
       "      <td>2016-01-15 02:00:00</td>\n",
       "      <td>6.055926</td>\n",
       "      <td>10.213995</td>\n",
       "      <td>5.383759</td>\n",
       "      <td>42.657501</td>\n",
       "      <td>68.116445</td>\n",
       "      <td>10.507046</td>\n",
       "      <td>0.953716</td>\n",
       "      <td>16.208849</td>\n",
       "      <td>2.257889</td>\n",
       "      <td>...</td>\n",
       "      <td>14.015015</td>\n",
       "      <td>-502.520901</td>\n",
       "      <td>11.912783</td>\n",
       "      <td>-501.133383</td>\n",
       "      <td>10.070913</td>\n",
       "      <td>-500.129135</td>\n",
       "      <td>8.013877</td>\n",
       "      <td>-500.517572</td>\n",
       "      <td>14.028663</td>\n",
       "      <td>-601.427363</td>\n",
       "    </tr>\n",
       "    <tr>\n",
       "      <th>3</th>\n",
       "      <td>2016-01-15 03:00:00</td>\n",
       "      <td>6.047977</td>\n",
       "      <td>9.977019</td>\n",
       "      <td>4.858634</td>\n",
       "      <td>42.689819</td>\n",
       "      <td>68.347543</td>\n",
       "      <td>10.422762</td>\n",
       "      <td>0.883763</td>\n",
       "      <td>16.532835</td>\n",
       "      <td>2.146849</td>\n",
       "      <td>...</td>\n",
       "      <td>14.036510</td>\n",
       "      <td>-500.857308</td>\n",
       "      <td>11.999550</td>\n",
       "      <td>-501.193686</td>\n",
       "      <td>9.970366</td>\n",
       "      <td>-499.201640</td>\n",
       "      <td>7.977324</td>\n",
       "      <td>-500.255908</td>\n",
       "      <td>14.005551</td>\n",
       "      <td>-599.996129</td>\n",
       "    </tr>\n",
       "    <tr>\n",
       "      <th>4</th>\n",
       "      <td>2016-01-15 04:00:00</td>\n",
       "      <td>6.148599</td>\n",
       "      <td>10.142511</td>\n",
       "      <td>4.939416</td>\n",
       "      <td>42.774141</td>\n",
       "      <td>66.927016</td>\n",
       "      <td>10.360302</td>\n",
       "      <td>0.792826</td>\n",
       "      <td>16.525686</td>\n",
       "      <td>2.055292</td>\n",
       "      <td>...</td>\n",
       "      <td>14.027298</td>\n",
       "      <td>-499.838632</td>\n",
       "      <td>11.953070</td>\n",
       "      <td>-501.053894</td>\n",
       "      <td>9.925709</td>\n",
       "      <td>-501.686727</td>\n",
       "      <td>7.894242</td>\n",
       "      <td>-500.356035</td>\n",
       "      <td>13.996647</td>\n",
       "      <td>-601.496691</td>\n",
       "    </tr>\n",
       "  </tbody>\n",
       "</table>\n",
       "<p>5 rows × 87 columns</p>\n",
       "</div>"
      ],
      "text/plain": [
       "                  date  final.output.concentrate_ag  \\\n",
       "0  2016-01-15 00:00:00                     6.055403   \n",
       "1  2016-01-15 01:00:00                     6.029369   \n",
       "2  2016-01-15 02:00:00                     6.055926   \n",
       "3  2016-01-15 03:00:00                     6.047977   \n",
       "4  2016-01-15 04:00:00                     6.148599   \n",
       "\n",
       "   final.output.concentrate_pb  final.output.concentrate_sol  \\\n",
       "0                     9.889648                      5.507324   \n",
       "1                     9.968944                      5.257781   \n",
       "2                    10.213995                      5.383759   \n",
       "3                     9.977019                      4.858634   \n",
       "4                    10.142511                      4.939416   \n",
       "\n",
       "   final.output.concentrate_au  final.output.recovery  final.output.tail_ag  \\\n",
       "0                    42.192020              70.541216             10.411962   \n",
       "1                    42.701629              69.266198             10.462676   \n",
       "2                    42.657501              68.116445             10.507046   \n",
       "3                    42.689819              68.347543             10.422762   \n",
       "4                    42.774141              66.927016             10.360302   \n",
       "\n",
       "   final.output.tail_pb  final.output.tail_sol  final.output.tail_au  ...  \\\n",
       "0              0.895447              16.904297              2.143149  ...   \n",
       "1              0.927452              16.634514              2.224930  ...   \n",
       "2              0.953716              16.208849              2.257889  ...   \n",
       "3              0.883763              16.532835              2.146849  ...   \n",
       "4              0.792826              16.525686              2.055292  ...   \n",
       "\n",
       "   secondary_cleaner.state.floatbank4_a_air  \\\n",
       "0                                 14.016835   \n",
       "1                                 13.992281   \n",
       "2                                 14.015015   \n",
       "3                                 14.036510   \n",
       "4                                 14.027298   \n",
       "\n",
       "   secondary_cleaner.state.floatbank4_a_level  \\\n",
       "0                                 -502.488007   \n",
       "1                                 -505.503262   \n",
       "2                                 -502.520901   \n",
       "3                                 -500.857308   \n",
       "4                                 -499.838632   \n",
       "\n",
       "   secondary_cleaner.state.floatbank4_b_air  \\\n",
       "0                                 12.099931   \n",
       "1                                 11.950531   \n",
       "2                                 11.912783   \n",
       "3                                 11.999550   \n",
       "4                                 11.953070   \n",
       "\n",
       "   secondary_cleaner.state.floatbank4_b_level  \\\n",
       "0                                 -504.715942   \n",
       "1                                 -501.331529   \n",
       "2                                 -501.133383   \n",
       "3                                 -501.193686   \n",
       "4                                 -501.053894   \n",
       "\n",
       "   secondary_cleaner.state.floatbank5_a_air  \\\n",
       "0                                  9.925633   \n",
       "1                                 10.039245   \n",
       "2                                 10.070913   \n",
       "3                                  9.970366   \n",
       "4                                  9.925709   \n",
       "\n",
       "   secondary_cleaner.state.floatbank5_a_level  \\\n",
       "0                                 -498.310211   \n",
       "1                                 -500.169983   \n",
       "2                                 -500.129135   \n",
       "3                                 -499.201640   \n",
       "4                                 -501.686727   \n",
       "\n",
       "   secondary_cleaner.state.floatbank5_b_air  \\\n",
       "0                                  8.079666   \n",
       "1                                  7.984757   \n",
       "2                                  8.013877   \n",
       "3                                  7.977324   \n",
       "4                                  7.894242   \n",
       "\n",
       "   secondary_cleaner.state.floatbank5_b_level  \\\n",
       "0                                 -500.470978   \n",
       "1                                 -500.582168   \n",
       "2                                 -500.517572   \n",
       "3                                 -500.255908   \n",
       "4                                 -500.356035   \n",
       "\n",
       "   secondary_cleaner.state.floatbank6_a_air  \\\n",
       "0                                 14.151341   \n",
       "1                                 13.998353   \n",
       "2                                 14.028663   \n",
       "3                                 14.005551   \n",
       "4                                 13.996647   \n",
       "\n",
       "   secondary_cleaner.state.floatbank6_a_level  \n",
       "0                                 -605.841980  \n",
       "1                                 -599.787184  \n",
       "2                                 -601.427363  \n",
       "3                                 -599.996129  \n",
       "4                                 -601.496691  \n",
       "\n",
       "[5 rows x 87 columns]"
      ]
     },
     "execution_count": 4,
     "metadata": {},
     "output_type": "execute_result"
    }
   ],
   "source": [
    "df.head()"
   ]
  },
  {
   "cell_type": "markdown",
   "metadata": {},
   "source": [
    "<div class=\"alert alert-info\">\n",
    " <font color='Blue'>\n",
    "     <b>Переводим дату в нужный формат(во всех трех датасетах)"
   ]
  },
  {
   "cell_type": "code",
   "execution_count": 5,
   "metadata": {},
   "outputs": [],
   "source": [
    "df['date']=pd.to_datetime(df['date'],format='%Y-%m-%d %H:%M:%S')"
   ]
  },
  {
   "cell_type": "code",
   "execution_count": 6,
   "metadata": {},
   "outputs": [],
   "source": [
    "df.set_index('date', inplace=True)\n"
   ]
  },
  {
   "cell_type": "code",
   "execution_count": 7,
   "metadata": {},
   "outputs": [],
   "source": [
    "df_train['date'] = pd.to_datetime(df_train['date'], format='%Y-%m-%d %H:%M:%S')\n",
    "df_train.set_index('date', inplace=True)\n"
   ]
  },
  {
   "cell_type": "code",
   "execution_count": 8,
   "metadata": {},
   "outputs": [
    {
     "name": "stdout",
     "output_type": "stream",
     "text": [
      "<class 'pandas.core.frame.DataFrame'>\n",
      "RangeIndex: 5290 entries, 0 to 5289\n",
      "Data columns (total 53 columns):\n",
      " #   Column                                      Non-Null Count  Dtype  \n",
      "---  ------                                      --------------  -----  \n",
      " 0   date                                        5290 non-null   object \n",
      " 1   primary_cleaner.input.sulfate               5286 non-null   float64\n",
      " 2   primary_cleaner.input.depressant            5285 non-null   float64\n",
      " 3   primary_cleaner.input.feed_size             5290 non-null   float64\n",
      " 4   primary_cleaner.input.xanthate              5286 non-null   float64\n",
      " 5   primary_cleaner.state.floatbank8_a_air      5290 non-null   float64\n",
      " 6   primary_cleaner.state.floatbank8_a_level    5290 non-null   float64\n",
      " 7   primary_cleaner.state.floatbank8_b_air      5290 non-null   float64\n",
      " 8   primary_cleaner.state.floatbank8_b_level    5290 non-null   float64\n",
      " 9   primary_cleaner.state.floatbank8_c_air      5290 non-null   float64\n",
      " 10  primary_cleaner.state.floatbank8_c_level    5290 non-null   float64\n",
      " 11  primary_cleaner.state.floatbank8_d_air      5290 non-null   float64\n",
      " 12  primary_cleaner.state.floatbank8_d_level    5290 non-null   float64\n",
      " 13  rougher.input.feed_ag                       5290 non-null   float64\n",
      " 14  rougher.input.feed_pb                       5290 non-null   float64\n",
      " 15  rougher.input.feed_rate                     5287 non-null   float64\n",
      " 16  rougher.input.feed_size                     5289 non-null   float64\n",
      " 17  rougher.input.feed_sol                      5269 non-null   float64\n",
      " 18  rougher.input.feed_au                       5290 non-null   float64\n",
      " 19  rougher.input.floatbank10_sulfate           5285 non-null   float64\n",
      " 20  rougher.input.floatbank10_xanthate          5290 non-null   float64\n",
      " 21  rougher.input.floatbank11_sulfate           5282 non-null   float64\n",
      " 22  rougher.input.floatbank11_xanthate          5265 non-null   float64\n",
      " 23  rougher.state.floatbank10_a_air             5290 non-null   float64\n",
      " 24  rougher.state.floatbank10_a_level           5290 non-null   float64\n",
      " 25  rougher.state.floatbank10_b_air             5290 non-null   float64\n",
      " 26  rougher.state.floatbank10_b_level           5290 non-null   float64\n",
      " 27  rougher.state.floatbank10_c_air             5290 non-null   float64\n",
      " 28  rougher.state.floatbank10_c_level           5290 non-null   float64\n",
      " 29  rougher.state.floatbank10_d_air             5290 non-null   float64\n",
      " 30  rougher.state.floatbank10_d_level           5290 non-null   float64\n",
      " 31  rougher.state.floatbank10_e_air             5290 non-null   float64\n",
      " 32  rougher.state.floatbank10_e_level           5290 non-null   float64\n",
      " 33  rougher.state.floatbank10_f_air             5290 non-null   float64\n",
      " 34  rougher.state.floatbank10_f_level           5290 non-null   float64\n",
      " 35  secondary_cleaner.state.floatbank2_a_air    5287 non-null   float64\n",
      " 36  secondary_cleaner.state.floatbank2_a_level  5290 non-null   float64\n",
      " 37  secondary_cleaner.state.floatbank2_b_air    5288 non-null   float64\n",
      " 38  secondary_cleaner.state.floatbank2_b_level  5290 non-null   float64\n",
      " 39  secondary_cleaner.state.floatbank3_a_air    5281 non-null   float64\n",
      " 40  secondary_cleaner.state.floatbank3_a_level  5290 non-null   float64\n",
      " 41  secondary_cleaner.state.floatbank3_b_air    5290 non-null   float64\n",
      " 42  secondary_cleaner.state.floatbank3_b_level  5290 non-null   float64\n",
      " 43  secondary_cleaner.state.floatbank4_a_air    5290 non-null   float64\n",
      " 44  secondary_cleaner.state.floatbank4_a_level  5290 non-null   float64\n",
      " 45  secondary_cleaner.state.floatbank4_b_air    5290 non-null   float64\n",
      " 46  secondary_cleaner.state.floatbank4_b_level  5290 non-null   float64\n",
      " 47  secondary_cleaner.state.floatbank5_a_air    5290 non-null   float64\n",
      " 48  secondary_cleaner.state.floatbank5_a_level  5290 non-null   float64\n",
      " 49  secondary_cleaner.state.floatbank5_b_air    5290 non-null   float64\n",
      " 50  secondary_cleaner.state.floatbank5_b_level  5290 non-null   float64\n",
      " 51  secondary_cleaner.state.floatbank6_a_air    5290 non-null   float64\n",
      " 52  secondary_cleaner.state.floatbank6_a_level  5290 non-null   float64\n",
      "dtypes: float64(52), object(1)\n",
      "memory usage: 2.1+ MB\n"
     ]
    }
   ],
   "source": [
    "df_test.info()"
   ]
  },
  {
   "cell_type": "code",
   "execution_count": 9,
   "metadata": {},
   "outputs": [],
   "source": [
    "df_test['date'] = pd.to_datetime(df_test['date'], format='%Y-%m-%d %H:%M:%S')\n",
    "df_test.set_index('date', inplace=True)"
   ]
  },
  {
   "cell_type": "markdown",
   "metadata": {},
   "source": [
    "Вывод"
   ]
  },
  {
   "cell_type": "markdown",
   "metadata": {},
   "source": [
    "<div class=\"alert alert-info\">\n",
    " <font color='Blue'>\n",
    "     <b>\n",
    "В тестовой выборке не все столбцы. Позднее, мы посмотрим, почему"
   ]
  },
  {
   "cell_type": "markdown",
   "metadata": {},
   "source": [
    "<div class=\"alert alert-info\">\n",
    " <font color='Blue'>\n",
    "     <b>\n",
    "Проверим, что эффективность обогащения рассчитана правильно. Вычислим её на обучающей выборке для признака rougher.output.recovery. Найдем MAE между нашими расчётами и значением признака."
   ]
  },
  {
   "cell_type": "markdown",
   "metadata": {},
   "source": [
    "<div class=\"alert alert-info\">\n",
    " <font color='Blue'>\n",
    "     <b>Рассчитаем по формуле, которую дали в инструкции"
   ]
  },
  {
   "cell_type": "code",
   "execution_count": 10,
   "metadata": {},
   "outputs": [],
   "source": [
    "\n",
    "df_train['rougher.output.recovery_test'] = (df_train['rougher.output.concentrate_au'] * (df_train['rougher.input.feed_au'] - df_train['rougher.output.tail_au'])) / (df_train['rougher.input.feed_au'] * (df_train['rougher.output.concentrate_au'] - df_train['rougher.output.tail_au'])) * 100\n"
   ]
  },
  {
   "cell_type": "code",
   "execution_count": 11,
   "metadata": {},
   "outputs": [
    {
     "data": {
      "image/png": "[encoded data removed]",
      "text/plain": [
       "<Figure size 1080x720 with 1 Axes>"
      ]
     },
     "metadata": {
      "needs_background": "light"
     },
     "output_type": "display_data"
    }
   ],
   "source": [
    "df_train['rougher.output.recovery'].hist(bins=100, figsize=(15, 10))\n",
    "plt.xlabel('Эффективность обогащения')\n",
    "plt.ylabel('Количество объектов')\n",
    "plt.grid(linewidth=0.5)\n",
    "plt.title('Распределение')\n",
    "plt.show()"
   ]
  },
  {
   "cell_type": "code",
   "execution_count": 12,
   "metadata": {},
   "outputs": [
    {
     "data": {
      "text/plain": [
       "date\n",
       "2016-01-15 00:00:00    87.107763\n",
       "2016-01-15 01:00:00    86.843261\n",
       "2016-01-15 02:00:00    86.842308\n",
       "2016-01-15 03:00:00    87.226430\n",
       "2016-01-15 04:00:00    86.688794\n",
       "Name: rougher.output.recovery_test, dtype: float64"
      ]
     },
     "execution_count": 12,
     "metadata": {},
     "output_type": "execute_result"
    }
   ],
   "source": [
    "df_train['rougher.output.recovery_test'].head()"
   ]
  },
  {
   "cell_type": "code",
   "execution_count": 13,
   "metadata": {},
   "outputs": [
    {
     "data": {
      "text/plain": [
       "-0.000000      297\n",
       " 83.406924      10\n",
       " 100.000000      5\n",
       " 91.792293       5\n",
       " 91.636690       4\n",
       "Name: rougher.output.recovery_test, dtype: int64"
      ]
     },
     "execution_count": 13,
     "metadata": {},
     "output_type": "execute_result"
    }
   ],
   "source": [
    "df_train['rougher.output.recovery_test'].value_counts().head()"
   ]
  },
  {
   "cell_type": "code",
   "execution_count": 14,
   "metadata": {},
   "outputs": [
    {
     "name": "stdout",
     "output_type": "stream",
     "text": [
      "9.73512347450521e-15\n"
     ]
    }
   ],
   "source": [
    "print(mean_absolute_error(df_train['rougher.output.recovery_test'], y_pred=df_train['rougher.output.recovery']))\n"
   ]
  },
  {
   "cell_type": "markdown",
   "metadata": {},
   "source": []
  },
  {
   "cell_type": "markdown",
   "metadata": {},
   "source": [
    "<div class=\"alert alert-info\">\n",
    " <font color='Blue'>\n",
    "     <b>Ошибка близка к нулю, а значит, эффективность обогащения посчитана верно."
   ]
  },
  {
   "cell_type": "markdown",
   "metadata": {},
   "source": [
    "<div class=\"alert alert-info\">\n",
    " <font color='Blue'>\n",
    "     <b>Проанализируем признаки, недоступные в тестовой выборке. Что это за параметры? К какому типу относятся?"
   ]
  },
  {
   "cell_type": "code",
   "execution_count": 15,
   "metadata": {},
   "outputs": [
    {
     "data": {
      "text/plain": [
       "Index(['primary_cleaner.input.sulfate', 'primary_cleaner.input.depressant',\n",
       "       'primary_cleaner.input.feed_size', 'primary_cleaner.input.xanthate',\n",
       "       'primary_cleaner.state.floatbank8_a_air',\n",
       "       'primary_cleaner.state.floatbank8_a_level',\n",
       "       'primary_cleaner.state.floatbank8_b_air',\n",
       "       'primary_cleaner.state.floatbank8_b_level',\n",
       "       'primary_cleaner.state.floatbank8_c_air',\n",
       "       'primary_cleaner.state.floatbank8_c_level',\n",
       "       'primary_cleaner.state.floatbank8_d_air',\n",
       "       'primary_cleaner.state.floatbank8_d_level', 'rougher.input.feed_ag',\n",
       "       'rougher.input.feed_pb', 'rougher.input.feed_rate',\n",
       "       'rougher.input.feed_size', 'rougher.input.feed_sol',\n",
       "       'rougher.input.feed_au', 'rougher.input.floatbank10_sulfate',\n",
       "       'rougher.input.floatbank10_xanthate',\n",
       "       'rougher.input.floatbank11_sulfate',\n",
       "       'rougher.input.floatbank11_xanthate', 'rougher.state.floatbank10_a_air',\n",
       "       'rougher.state.floatbank10_a_level', 'rougher.state.floatbank10_b_air',\n",
       "       'rougher.state.floatbank10_b_level', 'rougher.state.floatbank10_c_air',\n",
       "       'rougher.state.floatbank10_c_level', 'rougher.state.floatbank10_d_air',\n",
       "       'rougher.state.floatbank10_d_level', 'rougher.state.floatbank10_e_air',\n",
       "       'rougher.state.floatbank10_e_level', 'rougher.state.floatbank10_f_air',\n",
       "       'rougher.state.floatbank10_f_level',\n",
       "       'secondary_cleaner.state.floatbank2_a_air',\n",
       "       'secondary_cleaner.state.floatbank2_a_level',\n",
       "       'secondary_cleaner.state.floatbank2_b_air',\n",
       "       'secondary_cleaner.state.floatbank2_b_level',\n",
       "       'secondary_cleaner.state.floatbank3_a_air',\n",
       "       'secondary_cleaner.state.floatbank3_a_level',\n",
       "       'secondary_cleaner.state.floatbank3_b_air',\n",
       "       'secondary_cleaner.state.floatbank3_b_level',\n",
       "       'secondary_cleaner.state.floatbank4_a_air',\n",
       "       'secondary_cleaner.state.floatbank4_a_level',\n",
       "       'secondary_cleaner.state.floatbank4_b_air',\n",
       "       'secondary_cleaner.state.floatbank4_b_level',\n",
       "       'secondary_cleaner.state.floatbank5_a_air',\n",
       "       'secondary_cleaner.state.floatbank5_a_level',\n",
       "       'secondary_cleaner.state.floatbank5_b_air',\n",
       "       'secondary_cleaner.state.floatbank5_b_level',\n",
       "       'secondary_cleaner.state.floatbank6_a_air',\n",
       "       'secondary_cleaner.state.floatbank6_a_level'],\n",
       "      dtype='object')"
      ]
     },
     "execution_count": 15,
     "metadata": {},
     "output_type": "execute_result"
    }
   ],
   "source": [
    "df_test.columns\n"
   ]
  },
  {
   "cell_type": "code",
   "execution_count": 16,
   "metadata": {},
   "outputs": [
    {
     "data": {
      "text/plain": [
       "['primary_cleaner.input.sulfate',\n",
       " 'primary_cleaner.input.depressant',\n",
       " 'primary_cleaner.input.feed_size',\n",
       " 'primary_cleaner.input.xanthate',\n",
       " 'primary_cleaner.state.floatbank8_a_air',\n",
       " 'primary_cleaner.state.floatbank8_a_level',\n",
       " 'primary_cleaner.state.floatbank8_b_air',\n",
       " 'primary_cleaner.state.floatbank8_b_level',\n",
       " 'primary_cleaner.state.floatbank8_c_air',\n",
       " 'primary_cleaner.state.floatbank8_c_level',\n",
       " 'primary_cleaner.state.floatbank8_d_air',\n",
       " 'primary_cleaner.state.floatbank8_d_level',\n",
       " 'rougher.input.feed_ag',\n",
       " 'rougher.input.feed_pb',\n",
       " 'rougher.input.feed_rate',\n",
       " 'rougher.input.feed_size',\n",
       " 'rougher.input.feed_sol',\n",
       " 'rougher.input.feed_au',\n",
       " 'rougher.input.floatbank10_sulfate',\n",
       " 'rougher.input.floatbank10_xanthate',\n",
       " 'rougher.input.floatbank11_sulfate',\n",
       " 'rougher.input.floatbank11_xanthate',\n",
       " 'rougher.state.floatbank10_a_air',\n",
       " 'rougher.state.floatbank10_a_level',\n",
       " 'rougher.state.floatbank10_b_air',\n",
       " 'rougher.state.floatbank10_b_level',\n",
       " 'rougher.state.floatbank10_c_air',\n",
       " 'rougher.state.floatbank10_c_level',\n",
       " 'rougher.state.floatbank10_d_air',\n",
       " 'rougher.state.floatbank10_d_level',\n",
       " 'rougher.state.floatbank10_e_air',\n",
       " 'rougher.state.floatbank10_e_level',\n",
       " 'rougher.state.floatbank10_f_air',\n",
       " 'rougher.state.floatbank10_f_level',\n",
       " 'secondary_cleaner.state.floatbank2_a_air',\n",
       " 'secondary_cleaner.state.floatbank2_a_level',\n",
       " 'secondary_cleaner.state.floatbank2_b_air',\n",
       " 'secondary_cleaner.state.floatbank2_b_level',\n",
       " 'secondary_cleaner.state.floatbank3_a_air',\n",
       " 'secondary_cleaner.state.floatbank3_a_level',\n",
       " 'secondary_cleaner.state.floatbank3_b_air',\n",
       " 'secondary_cleaner.state.floatbank3_b_level',\n",
       " 'secondary_cleaner.state.floatbank4_a_air',\n",
       " 'secondary_cleaner.state.floatbank4_a_level',\n",
       " 'secondary_cleaner.state.floatbank4_b_air',\n",
       " 'secondary_cleaner.state.floatbank4_b_level',\n",
       " 'secondary_cleaner.state.floatbank5_a_air',\n",
       " 'secondary_cleaner.state.floatbank5_a_level',\n",
       " 'secondary_cleaner.state.floatbank5_b_air',\n",
       " 'secondary_cleaner.state.floatbank5_b_level',\n",
       " 'secondary_cleaner.state.floatbank6_a_air',\n",
       " 'secondary_cleaner.state.floatbank6_a_level']"
      ]
     },
     "execution_count": 16,
     "metadata": {},
     "output_type": "execute_result"
    }
   ],
   "source": [
    "list(df_test.columns)"
   ]
  },
  {
   "cell_type": "code",
   "execution_count": 17,
   "metadata": {},
   "outputs": [
    {
     "name": "stdout",
     "output_type": "stream",
     "text": [
      "final.output.concentrate_ag\n",
      "final.output.concentrate_pb\n",
      "final.output.concentrate_sol\n",
      "final.output.concentrate_au\n",
      "final.output.recovery\n",
      "final.output.tail_ag\n",
      "final.output.tail_pb\n",
      "final.output.tail_sol\n",
      "final.output.tail_au\n",
      "primary_cleaner.output.concentrate_ag\n",
      "primary_cleaner.output.concentrate_pb\n",
      "primary_cleaner.output.concentrate_sol\n",
      "primary_cleaner.output.concentrate_au\n",
      "primary_cleaner.output.tail_ag\n",
      "primary_cleaner.output.tail_pb\n",
      "primary_cleaner.output.tail_sol\n",
      "primary_cleaner.output.tail_au\n",
      "rougher.calculation.sulfate_to_au_concentrate\n",
      "rougher.calculation.floatbank10_sulfate_to_au_feed\n",
      "rougher.calculation.floatbank11_sulfate_to_au_feed\n",
      "rougher.calculation.au_pb_ratio\n",
      "rougher.output.concentrate_ag\n",
      "rougher.output.concentrate_pb\n",
      "rougher.output.concentrate_sol\n",
      "rougher.output.concentrate_au\n",
      "rougher.output.recovery\n",
      "rougher.output.tail_ag\n",
      "rougher.output.tail_pb\n",
      "rougher.output.tail_sol\n",
      "rougher.output.tail_au\n",
      "secondary_cleaner.output.tail_ag\n",
      "secondary_cleaner.output.tail_pb\n",
      "secondary_cleaner.output.tail_sol\n",
      "secondary_cleaner.output.tail_au\n"
     ]
    }
   ],
   "source": [
    "for i in list(df.columns):\n",
    "    if i not in df_test.columns:\n",
    "        print(i)\n",
    "    "
   ]
  },
  {
   "cell_type": "markdown",
   "metadata": {},
   "source": [
    "<div class=\"alert alert-info\">\n",
    " <font color='Blue'>\n",
    "     <b>В тестовой выборке отсутствуют все признаки относящиеся к параметрам продуктов всех этапов обработки, а также расчетные характеристики для флотации."
   ]
  },
  {
   "cell_type": "markdown",
   "metadata": {},
   "source": []
  },
  {
   "cell_type": "markdown",
   "metadata": {},
   "source": [
    "<div class=\"alert alert-info\">\n",
    " <font color='Blue'>\n",
    "     <b>\n",
    "Исправим отрицательные значений в признаках уровня жидкости в установках\n"
   ]
  },
  {
   "cell_type": "code",
   "execution_count": 18,
   "metadata": {},
   "outputs": [
    {
     "name": "stdout",
     "output_type": "stream",
     "text": [
      "<class 'pandas.core.frame.DataFrame'>\n",
      "DatetimeIndex: 19439 entries, 2016-01-15 00:00:00 to 2018-08-18 10:59:59\n",
      "Data columns (total 86 columns):\n",
      " #   Column                                              Non-Null Count  Dtype  \n",
      "---  ------                                              --------------  -----  \n",
      " 0   final.output.concentrate_ag                         19438 non-null  float64\n",
      " 1   final.output.concentrate_pb                         19438 non-null  float64\n",
      " 2   final.output.concentrate_sol                        19228 non-null  float64\n",
      " 3   final.output.concentrate_au                         19439 non-null  float64\n",
      " 4   final.output.recovery                               19439 non-null  float64\n",
      " 5   final.output.tail_ag                                19438 non-null  float64\n",
      " 6   final.output.tail_pb                                19338 non-null  float64\n",
      " 7   final.output.tail_sol                               19433 non-null  float64\n",
      " 8   final.output.tail_au                                19439 non-null  float64\n",
      " 9   primary_cleaner.input.sulfate                       19415 non-null  float64\n",
      " 10  primary_cleaner.input.depressant                    19402 non-null  float64\n",
      " 11  primary_cleaner.input.feed_size                     19439 non-null  float64\n",
      " 12  primary_cleaner.input.xanthate                      19335 non-null  float64\n",
      " 13  primary_cleaner.output.concentrate_ag               19439 non-null  float64\n",
      " 14  primary_cleaner.output.concentrate_pb               19323 non-null  float64\n",
      " 15  primary_cleaner.output.concentrate_sol              19069 non-null  float64\n",
      " 16  primary_cleaner.output.concentrate_au               19439 non-null  float64\n",
      " 17  primary_cleaner.output.tail_ag                      19435 non-null  float64\n",
      " 18  primary_cleaner.output.tail_pb                      19418 non-null  float64\n",
      " 19  primary_cleaner.output.tail_sol                     19377 non-null  float64\n",
      " 20  primary_cleaner.output.tail_au                      19439 non-null  float64\n",
      " 21  primary_cleaner.state.floatbank8_a_air              19435 non-null  float64\n",
      " 22  primary_cleaner.state.floatbank8_a_level            19438 non-null  float64\n",
      " 23  primary_cleaner.state.floatbank8_b_air              19435 non-null  float64\n",
      " 24  primary_cleaner.state.floatbank8_b_level            19438 non-null  float64\n",
      " 25  primary_cleaner.state.floatbank8_c_air              19437 non-null  float64\n",
      " 26  primary_cleaner.state.floatbank8_c_level            19438 non-null  float64\n",
      " 27  primary_cleaner.state.floatbank8_d_air              19436 non-null  float64\n",
      " 28  primary_cleaner.state.floatbank8_d_level            19438 non-null  float64\n",
      " 29  rougher.calculation.sulfate_to_au_concentrate       19437 non-null  float64\n",
      " 30  rougher.calculation.floatbank10_sulfate_to_au_feed  19437 non-null  float64\n",
      " 31  rougher.calculation.floatbank11_sulfate_to_au_feed  19437 non-null  float64\n",
      " 32  rougher.calculation.au_pb_ratio                     19439 non-null  float64\n",
      " 33  rougher.input.feed_ag                               19439 non-null  float64\n",
      " 34  rougher.input.feed_pb                               19339 non-null  float64\n",
      " 35  rougher.input.feed_rate                             19428 non-null  float64\n",
      " 36  rougher.input.feed_size                             19294 non-null  float64\n",
      " 37  rougher.input.feed_sol                              19340 non-null  float64\n",
      " 38  rougher.input.feed_au                               19439 non-null  float64\n",
      " 39  rougher.input.floatbank10_sulfate                   19405 non-null  float64\n",
      " 40  rougher.input.floatbank10_xanthate                  19431 non-null  float64\n",
      " 41  rougher.input.floatbank11_sulfate                   19395 non-null  float64\n",
      " 42  rougher.input.floatbank11_xanthate                  18986 non-null  float64\n",
      " 43  rougher.output.concentrate_ag                       19439 non-null  float64\n",
      " 44  rougher.output.concentrate_pb                       19439 non-null  float64\n",
      " 45  rougher.output.concentrate_sol                      19416 non-null  float64\n",
      " 46  rougher.output.concentrate_au                       19439 non-null  float64\n",
      " 47  rougher.output.recovery                             19439 non-null  float64\n",
      " 48  rougher.output.tail_ag                              19438 non-null  float64\n",
      " 49  rougher.output.tail_pb                              19439 non-null  float64\n",
      " 50  rougher.output.tail_sol                             19439 non-null  float64\n",
      " 51  rougher.output.tail_au                              19439 non-null  float64\n",
      " 52  rougher.state.floatbank10_a_air                     19438 non-null  float64\n",
      " 53  rougher.state.floatbank10_a_level                   19438 non-null  float64\n",
      " 54  rougher.state.floatbank10_b_air                     19438 non-null  float64\n",
      " 55  rougher.state.floatbank10_b_level                   19438 non-null  float64\n",
      " 56  rougher.state.floatbank10_c_air                     19438 non-null  float64\n",
      " 57  rougher.state.floatbank10_c_level                   19438 non-null  float64\n",
      " 58  rougher.state.floatbank10_d_air                     19439 non-null  float64\n",
      " 59  rougher.state.floatbank10_d_level                   19439 non-null  float64\n",
      " 60  rougher.state.floatbank10_e_air                     19003 non-null  float64\n",
      " 61  rougher.state.floatbank10_e_level                   19439 non-null  float64\n",
      " 62  rougher.state.floatbank10_f_air                     19439 non-null  float64\n",
      " 63  rougher.state.floatbank10_f_level                   19439 non-null  float64\n",
      " 64  secondary_cleaner.output.tail_ag                    19437 non-null  float64\n",
      " 65  secondary_cleaner.output.tail_pb                    19427 non-null  float64\n",
      " 66  secondary_cleaner.output.tail_sol                   17691 non-null  float64\n",
      " 67  secondary_cleaner.output.tail_au                    19439 non-null  float64\n",
      " 68  secondary_cleaner.state.floatbank2_a_air            19219 non-null  float64\n",
      " 69  secondary_cleaner.state.floatbank2_a_level          19438 non-null  float64\n",
      " 70  secondary_cleaner.state.floatbank2_b_air            19416 non-null  float64\n",
      " 71  secondary_cleaner.state.floatbank2_b_level          19438 non-null  float64\n",
      " 72  secondary_cleaner.state.floatbank3_a_air            19426 non-null  float64\n",
      " 73  secondary_cleaner.state.floatbank3_a_level          19438 non-null  float64\n",
      " 74  secondary_cleaner.state.floatbank3_b_air            19438 non-null  float64\n",
      " 75  secondary_cleaner.state.floatbank3_b_level          19438 non-null  float64\n",
      " 76  secondary_cleaner.state.floatbank4_a_air            19433 non-null  float64\n",
      " 77  secondary_cleaner.state.floatbank4_a_level          19438 non-null  float64\n",
      " 78  secondary_cleaner.state.floatbank4_b_air            19438 non-null  float64\n",
      " 79  secondary_cleaner.state.floatbank4_b_level          19438 non-null  float64\n",
      " 80  secondary_cleaner.state.floatbank5_a_air            19438 non-null  float64\n",
      " 81  secondary_cleaner.state.floatbank5_a_level          19438 non-null  float64\n",
      " 82  secondary_cleaner.state.floatbank5_b_air            19438 non-null  float64\n",
      " 83  secondary_cleaner.state.floatbank5_b_level          19438 non-null  float64\n",
      " 84  secondary_cleaner.state.floatbank6_a_air            19437 non-null  float64\n",
      " 85  secondary_cleaner.state.floatbank6_a_level          19438 non-null  float64\n",
      "dtypes: float64(86)\n",
      "memory usage: 12.9 MB\n"
     ]
    }
   ],
   "source": [
    "df.info()"
   ]
  },
  {
   "cell_type": "code",
   "execution_count": 19,
   "metadata": {},
   "outputs": [
    {
     "data": {
      "text/plain": [
       "['primary_cleaner.state.floatbank8_a_level',\n",
       " 'primary_cleaner.state.floatbank8_b_level',\n",
       " 'primary_cleaner.state.floatbank8_c_level',\n",
       " 'primary_cleaner.state.floatbank8_d_level',\n",
       " 'rougher.state.floatbank10_a_level',\n",
       " 'rougher.state.floatbank10_b_level',\n",
       " 'rougher.state.floatbank10_c_level',\n",
       " 'rougher.state.floatbank10_d_level',\n",
       " 'rougher.state.floatbank10_e_level',\n",
       " 'rougher.state.floatbank10_f_level',\n",
       " 'secondary_cleaner.state.floatbank2_a_level',\n",
       " 'secondary_cleaner.state.floatbank2_b_level',\n",
       " 'secondary_cleaner.state.floatbank3_a_level',\n",
       " 'secondary_cleaner.state.floatbank3_b_level',\n",
       " 'secondary_cleaner.state.floatbank4_a_level',\n",
       " 'secondary_cleaner.state.floatbank4_b_level',\n",
       " 'secondary_cleaner.state.floatbank5_a_level',\n",
       " 'secondary_cleaner.state.floatbank5_b_level',\n",
       " 'secondary_cleaner.state.floatbank6_a_level']"
      ]
     },
     "execution_count": 19,
     "metadata": {},
     "output_type": "execute_result"
    }
   ],
   "source": [
    "levels=list(df.filter(regex='level').columns)\n",
    "levels"
   ]
  },
  {
   "cell_type": "code",
   "execution_count": 25,
   "metadata": {},
   "outputs": [
    {
     "data": {
      "text/plain": [
       "date\n",
       "2016-01-15 00:00:00    19\n",
       "2016-01-15 01:00:00    19\n",
       "2016-01-15 02:00:00    19\n",
       "2016-01-15 03:00:00    19\n",
       "2016-01-15 04:00:00    19\n",
       "Name: liquid_level_values_lower_than_0, dtype: int64"
      ]
     },
     "execution_count": 25,
     "metadata": {},
     "output_type": "execute_result"
    }
   ],
   "source": [
    "df['liquid_level_values_lower_than_0'].head()"
   ]
  },
  {
   "cell_type": "code",
   "execution_count": 20,
   "metadata": {},
   "outputs": [],
   "source": [
    "df['liquid_level_values_lower_than_0'] = df[levels].apply(lambda x: (x < 0).sum(), axis=1)\n"
   ]
  },
  {
   "cell_type": "code",
   "execution_count": 24,
   "metadata": {},
   "outputs": [
    {
     "data": {
      "text/plain": [
       "date\n",
       "2016-01-15 00:00:00    19\n",
       "2016-01-15 01:00:00    19\n",
       "2016-01-15 02:00:00    19\n",
       "2016-01-15 03:00:00    19\n",
       "2016-01-15 04:00:00    19\n",
       "Name: liquid_level_values_lower_than_0, dtype: int64"
      ]
     },
     "execution_count": 24,
     "metadata": {},
     "output_type": "execute_result"
    }
   ],
   "source": [
    "df['liquid_level_values_lower_than_0'].head()"
   ]
  },
  {
   "cell_type": "code",
   "execution_count": 21,
   "metadata": {},
   "outputs": [],
   "source": [
    "df.loc[:, levels] = df.loc[:, levels] * -1\n"
   ]
  },
  {
   "cell_type": "code",
   "execution_count": 22,
   "metadata": {},
   "outputs": [],
   "source": [
    "# Удалим признаки в обучающей выборке, которых нет в тестовой выборке\n",
    "df_train = df_train[df_test.columns]\n"
   ]
  },
  {
   "cell_type": "code",
   "execution_count": 23,
   "metadata": {},
   "outputs": [],
   "source": [
    "df_train.dropna(inplace=True)\n",
    "df_test.dropna(inplace=True)"
   ]
  },
  {
   "cell_type": "markdown",
   "metadata": {},
   "source": [
    "\n"
   ]
  },
  {
   "cell_type": "code",
   "execution_count": 24,
   "metadata": {},
   "outputs": [
    {
     "name": "stdout",
     "output_type": "stream",
     "text": [
      "В обучающей выборке : 12679 строк 52 признаков\n",
      "В тестовой выборке: 5229 строк 52 признаков\n"
     ]
    }
   ],
   "source": [
    "print('В обучающей выборке : {} строк {} признаков'.format(df_train.shape[0],df_train.shape[1]))\n",
    "print('В тестовой выборке: {} строк {} признаков'.format(df_test.shape[0], df_test.shape[1]))"
   ]
  },
  {
   "cell_type": "markdown",
   "metadata": {},
   "source": [
    "\n"
   ]
  },
  {
   "cell_type": "markdown",
   "metadata": {},
   "source": [
    "## Анализ данных"
   ]
  },
  {
   "cell_type": "markdown",
   "metadata": {},
   "source": [
    "<div class=\"alert alert-info\">\n",
    " <font color='Blue'>\n",
    "     <b>\n",
    "Посмотрим, как меняется концентрация металлов (Au, Ag, Pb) на различных этапах очистки. Сделаем это для наглядности боксплотами на одном графике"
   ]
  },
  {
   "cell_type": "code",
   "execution_count": 25,
   "metadata": {},
   "outputs": [
    {
     "data": {
      "text/plain": [
       "<AxesSubplot:>"
      ]
     },
     "execution_count": 25,
     "metadata": {},
     "output_type": "execute_result"
    },
    {
     "data": {
      "image/png": "[encoded data removed]",
      "text/plain": [
       "<Figure size 1080x720 with 1 Axes>"
      ]
     },
     "metadata": {
      "needs_background": "light"
     },
     "output_type": "display_data"
    }
   ],
   "source": [
    "df.boxplot(\n",
    "        column=[f'final.output.concentrate_au', f'primary_cleaner.output.concentrate_au', f'rougher.output.concentrate_au', f'rougher.input.feed_au'],\n",
    "        figsize=(15, 10),\n",
    "        vert=False\n",
    "    )\n",
    "    "
   ]
  },
  {
   "cell_type": "code",
   "execution_count": 26,
   "metadata": {},
   "outputs": [
    {
     "data": {
      "text/plain": [
       "<AxesSubplot:>"
      ]
     },
     "execution_count": 26,
     "metadata": {},
     "output_type": "execute_result"
    },
    {
     "data": {
      "image/png": "[encoded data removed]",
      "text/plain": [
       "<Figure size 1080x720 with 1 Axes>"
      ]
     },
     "metadata": {
      "needs_background": "light"
     },
     "output_type": "display_data"
    }
   ],
   "source": [
    "df.boxplot(\n",
    "        column=[f'final.output.concentrate_ag', f'primary_cleaner.output.concentrate_ag', f'rougher.output.concentrate_ag', f'rougher.input.feed_ag'],\n",
    "        figsize=(15, 10),\n",
    "        vert=False\n",
    "    )"
   ]
  },
  {
   "cell_type": "code",
   "execution_count": 27,
   "metadata": {},
   "outputs": [
    {
     "data": {
      "text/plain": [
       "<AxesSubplot:>"
      ]
     },
     "execution_count": 27,
     "metadata": {},
     "output_type": "execute_result"
    },
    {
     "data": {
      "image/png": "[encoded data removed]",
      "text/plain": [
       "<Figure size 1080x720 with 1 Axes>"
      ]
     },
     "metadata": {
      "needs_background": "light"
     },
     "output_type": "display_data"
    }
   ],
   "source": [
    "df.boxplot(\n",
    "        column=[f'final.output.concentrate_pb', f'primary_cleaner.output.concentrate_pb', f'rougher.output.concentrate_pb', f'rougher.input.feed_pb'],\n",
    "        figsize=(15, 10),\n",
    "        vert=False\n",
    "    )"
   ]
  },
  {
   "cell_type": "markdown",
   "metadata": {},
   "source": [
    "<div class=\"alert alert-info\">\n",
    " <font color='Blue'>\n",
    "     <b>Вывод: концентрация золота с каждым этапом растет(иначе, не было бы смысла в обработке металлов). Концентрация серебра увеличивается после этапа флотации, а затем - уменьшается(избавление от примесей). Концентрация свинца в целом растет"
   ]
  },
  {
   "cell_type": "markdown",
   "metadata": {},
   "source": [
    "\n"
   ]
  },
  {
   "cell_type": "markdown",
   "metadata": {},
   "source": [
    "<div class=\"alert alert-info\">\n",
    " <font color='Blue'>\n",
    "     <b>\n",
    "Сравним распределение размеров гранул сырья на обучающей и тестовой выборках. Если распределения сильно отличаются друг от друга, оценка модели будет неправильной."
   ]
  },
  {
   "cell_type": "code",
   "execution_count": 28,
   "metadata": {},
   "outputs": [
    {
     "data": {
      "text/plain": [
       "<AxesSubplot:>"
      ]
     },
     "execution_count": 28,
     "metadata": {},
     "output_type": "execute_result"
    },
    {
     "data": {
      "image/png": "[encoded data removed]",
      "text/plain": [
       "<Figure size 1080x720 with 1 Axes>"
      ]
     },
     "metadata": {
      "needs_background": "light"
     },
     "output_type": "display_data"
    }
   ],
   "source": [
    "df_train['rougher.input.feed_size'].hist(bins=50,figsize=(15, 10),density=True)\n",
    "df_test['rougher.input.feed_size'].hist(bins=50,figsize=(15, 10),density=True)\n",
    "\n"
   ]
  },
  {
   "cell_type": "markdown",
   "metadata": {},
   "source": [
    "<div class=\"alert alert-info\">\n",
    " <font color='Blue'>\n",
    "     <b>В целом, распределения схожи"
   ]
  },
  {
   "cell_type": "markdown",
   "metadata": {},
   "source": [
    "\n"
   ]
  },
  {
   "cell_type": "markdown",
   "metadata": {},
   "source": [
    "<div class=\"alert alert-info\">\n",
    " <font color='Blue'>\n",
    "     <b>Добавлено density=True"
   ]
  },
  {
   "cell_type": "markdown",
   "metadata": {},
   "source": [
    "Исследуйте суммарную концентрацию всех веществ на разных стадиях: в сырье, в черновом и финальном концентратах."
   ]
  },
  {
   "cell_type": "code",
   "execution_count": 29,
   "metadata": {},
   "outputs": [],
   "source": [
    "df['rougher.input.feed_sum']=df['rougher.input.feed_au'] + df['rougher.input.feed_ag'] + df['rougher.input.feed_sol'] + df['rougher.input.feed_pb']\n",
    "df['rougher.output.concentrate_sum']=df['rougher.output.concentrate_au'] + df['rougher.output.concentrate_ag'] + df['rougher.output.concentrate_sol'] + df['rougher.output.concentrate_pb']\n",
    "df['final.output.concentrate_sum'] = df['final.output.concentrate_au'] + df['final.output.concentrate_ag'] + df['final.output.concentrate_sol'] + df['final.output.concentrate_pb']\n",
    "\n"
   ]
  },
  {
   "cell_type": "code",
   "execution_count": 30,
   "metadata": {},
   "outputs": [
    {
     "data": {
      "text/plain": [
       "<AxesSubplot:>"
      ]
     },
     "execution_count": 30,
     "metadata": {},
     "output_type": "execute_result"
    },
    {
     "data": {
      "image/png": "[encoded data removed]",
      "text/plain": [
       "<Figure size 1080x720 with 1 Axes>"
      ]
     },
     "metadata": {
      "needs_background": "light"
     },
     "output_type": "display_data"
    }
   ],
   "source": [
    "df.boxplot(\n",
    "    column=[\n",
    "        f'final.output.concentrate_sum',\n",
    "        f'rougher.output.concentrate_sum',\n",
    "        f'rougher.input.feed_sum'\n",
    "    ],\n",
    "    figsize=(15, 10),\n",
    "    vert=False\n",
    ")\n"
   ]
  },
  {
   "cell_type": "code",
   "execution_count": 31,
   "metadata": {},
   "outputs": [
    {
     "data": {
      "text/plain": [
       "<AxesSubplot:>"
      ]
     },
     "execution_count": 31,
     "metadata": {},
     "output_type": "execute_result"
    },
    {
     "data": {
      "image/png": "[encoded data removed]",
      "text/plain": [
       "<Figure size 1080x720 with 1 Axes>"
      ]
     },
     "metadata": {
      "needs_background": "light"
     },
     "output_type": "display_data"
    }
   ],
   "source": [
    "df['rougher.input.feed_sum'].hist(figsize=(15, 10),bins=100)\n"
   ]
  },
  {
   "cell_type": "code",
   "execution_count": 32,
   "metadata": {},
   "outputs": [
    {
     "data": {
      "text/plain": [
       "<AxesSubplot:>"
      ]
     },
     "execution_count": 32,
     "metadata": {},
     "output_type": "execute_result"
    },
    {
     "data": {
      "image/png": "[encoded data removed]",
      "text/plain": [
       "<Figure size 1080x720 with 1 Axes>"
      ]
     },
     "metadata": {
      "needs_background": "light"
     },
     "output_type": "display_data"
    }
   ],
   "source": [
    "df['rougher.output.concentrate_sum'].hist(bins=100,figsize=(15, 10))\n"
   ]
  },
  {
   "cell_type": "markdown",
   "metadata": {},
   "source": [
    "<div class=\"alert alert-info\">\n",
    " <font color='Blue'>\n",
    "     <b>Вывод: есть выбросы около нуля в rougher.output.concentrate_sum. Данных признаков все равно нет в тестовой выборке и их можно не обрабатывать."
   ]
  },
  {
   "cell_type": "markdown",
   "metadata": {},
   "source": []
  },
  {
   "cell_type": "markdown",
   "metadata": {},
   "source": [
    "## Модель"
   ]
  },
  {
   "cell_type": "markdown",
   "metadata": {},
   "source": [
    "Напишем функцию для вычисления sMape и итоговой sMAPE."
   ]
  },
  {
   "cell_type": "code",
   "execution_count": 33,
   "metadata": {},
   "outputs": [],
   "source": [
    "\n",
    "def smape(y_true,y_pred):\n",
    "    smape = 0\n",
    "    n=len(y_true)\n",
    "    for i in range(len(y_pred)):\n",
    "        smape += abs(y_true[i] - y_pred[i]) / ((abs(y_true[i]) + abs(y_pred[i])) / 2)\n",
    "    \n",
    "    return smape / n * 100\n",
    "    "
   ]
  },
  {
   "cell_type": "markdown",
   "metadata": {},
   "source": [
    "\n"
   ]
  },
  {
   "cell_type": "code",
   "execution_count": 34,
   "metadata": {},
   "outputs": [],
   "source": [
    "#пока не пригодилась, легче перемножить на месте\n",
    "#def final_smape(y_pred_rougher, y_true_rougher, y_pred_final, y_true_final):\n",
    "        #return 0.25 * symmetric_mean_absolute_percentage_error(y_pred=y_pred_rougher, y_true=y_true_rougher) + 0.75 * symmetric_mean_absolute_percentage_error(y_pred=y_pred_final, y_true=y_true_final)\n"
   ]
  },
  {
   "cell_type": "markdown",
   "metadata": {},
   "source": [
    "<div class=\"alert alert-info\">\n",
    " <font color='Blue'>\n",
    "     <b>Делим final и rougher на features, target и train,test соответственно"
   ]
  },
  {
   "cell_type": "code",
   "execution_count": 35,
   "metadata": {},
   "outputs": [],
   "source": [
    "\n",
    "X_train_rougher = df_train\n",
    "X_test_rougher = df_test\n",
    "y_train_rougher = df.loc[X_train_rougher.index, 'rougher.output.recovery']\n",
    "y_test_rougher = df.loc[X_test_rougher.index,'final.output.recovery']\n",
    "\n",
    "X_train_final = df_train\n",
    "X_test_final = df_test\n",
    "y_train_final = df.loc[X_train_final.index, 'final.output.recovery']\n",
    "y_test_final = df.loc[X_test_final.index, 'final.output.recovery']"
   ]
  },
  {
   "cell_type": "markdown",
   "metadata": {},
   "source": []
  },
  {
   "cell_type": "code",
   "execution_count": 36,
   "metadata": {},
   "outputs": [],
   "source": [
    "y_train_final = y_train_final.fillna(y_train_final.mean())\n",
    "y_train_rougher = y_train_rougher.fillna(y_train_rougher.mean())"
   ]
  },
  {
   "cell_type": "code",
   "execution_count": 37,
   "metadata": {},
   "outputs": [],
   "source": [
    "from sklearn.model_selection import KFold"
   ]
  },
  {
   "cell_type": "code",
   "execution_count": 38,
   "metadata": {},
   "outputs": [],
   "source": [
    "cv = KFold(n_splits=5, shuffle=False)\n"
   ]
  },
  {
   "cell_type": "markdown",
   "metadata": {},
   "source": [
    "Подсмотрел применение кросс валидации на stackoverlow: https://stackoverflow.com/questions/49522928/cross-validation-in-linear-regression\n",
    "Оттуда же модель Лассо, которая не изучалась в рамках обучения в Практикуме. На данный момент этот код не до конца мне понятен(использование PipeLine, GridSearch), буду разбираться."
   ]
  },
  {
   "cell_type": "markdown",
   "metadata": {},
   "source": [
    "\n"
   ]
  },
  {
   "cell_type": "markdown",
   "metadata": {},
   "source": [
    "<div class=\"alert alert-info\">\n",
    " <font color='Blue'>\n",
    "     <b>Принято, изучу catboost"
   ]
  },
  {
   "cell_type": "code",
   "execution_count": 39,
   "metadata": {},
   "outputs": [],
   "source": [
    "import numpy as np\n",
    "from sklearn.model_selection import train_test_split\n",
    "from sklearn.preprocessing import StandardScaler\n",
    "from sklearn.linear_model import Lasso, Ridge, SGDRegressor\n",
    "from sklearn.model_selection import GridSearchCV\n",
    "from sklearn.pipeline import Pipeline, FeatureUnion"
   ]
  },
  {
   "cell_type": "code",
   "execution_count": 38,
   "metadata": {},
   "outputs": [],
   "source": [
    "from numpy.random import RandomState\n",
    "state = RandomState(12345)\n",
    "\n",
    "pipe = Pipeline([\n",
    "    ('imp', SimpleImputer(missing_values=np.nan)),\n",
    "    ('scaler', StandardScaler()),\n",
    "    ('model', RandomForestRegressor(n_estimators=100, random_state=state))\n",
    "])\n",
    "\n",
    "params = [\n",
    "    {\n",
    "        'imp__strategy': ['mean', 'median'],\n",
    "        'model': [RandomForestRegressor(n_estimators=10, random_state=state)],\n",
    "        'model__max_features': np.linspace(0.1, 1, 10)\n",
    "    }, {\n",
    "        'imp__strategy': ['mean', 'median'],\n",
    "        'model': [LinearRegression()]\n",
    "    }, {\n",
    "        'imp__strategy': ['mean', 'median'],\n",
    "        'model': [linear_model.Lasso(random_state=state)],\n",
    "        'model__alpha': np.logspace(-3, 1, 10)\n",
    "    }\n",
    "]"
   ]
  },
  {
   "cell_type": "code",
   "execution_count": 39,
   "metadata": {},
   "outputs": [],
   "source": [
    "from sklearn.metrics import make_scorer, mean_squared_error\n",
    "smape_score = make_scorer(smape, greater_is_better=False)"
   ]
  },
  {
   "cell_type": "markdown",
   "metadata": {},
   "source": [
    "\n"
   ]
  },
  {
   "cell_type": "markdown",
   "metadata": {},
   "source": [
    "<div class=\"alert alert-info\">\n",
    " <font color='Blue'>\n",
    "     <b>Кросс-Валидация по K блокам:"
   ]
  },
  {
   "cell_type": "code",
   "execution_count": 40,
   "metadata": {},
   "outputs": [],
   "source": [
    "cv = KFold(n_splits=5, shuffle=False)\n",
    "grid_rougher = GridSearchCV(pipe, param_grid=params, cv=cv, n_jobs=-1, scoring=smape_score)"
   ]
  },
  {
   "cell_type": "code",
   "execution_count": null,
   "metadata": {},
   "outputs": [],
   "source": [
    "grid_rougher.fit(X_train_rougher, y_train_rougher)\n"
   ]
  },
  {
   "cell_type": "markdown",
   "metadata": {},
   "source": [
    "<div class=\"alert alert-info\">\n",
    " <font color='Blue'>\n",
    "     <b>Лучшие параметры для rougher"
   ]
  },
  {
   "cell_type": "code",
   "execution_count": null,
   "metadata": {},
   "outputs": [],
   "source": [
    "print('Лучшие параметры:', grid_rougher.best_params_)\n",
    "print('smape:', -grid_rougher.best_score_)"
   ]
  },
  {
   "cell_type": "code",
   "execution_count": null,
   "metadata": {},
   "outputs": [],
   "source": [
    "grid_final = GridSearchCV(pipe, param_grid=params, cv=cv, n_jobs=-1,scoring=smape_score)"
   ]
  },
  {
   "cell_type": "markdown",
   "metadata": {},
   "source": [
    "\n"
   ]
  },
  {
   "cell_type": "code",
   "execution_count": null,
   "metadata": {},
   "outputs": [],
   "source": [
    "grid_final.fit(X_train_final, y_train_final)\n"
   ]
  },
  {
   "cell_type": "markdown",
   "metadata": {},
   "source": [
    "<div class=\"alert alert-info\">\n",
    " <font color='Blue'>\n",
    "     <b>Выведем лучшие подобранные параметры для финального этапа очистки"
   ]
  },
  {
   "cell_type": "code",
   "execution_count": null,
   "metadata": {},
   "outputs": [],
   "source": [
    "print('Лучшие параметры', grid_final.best_params_)\n",
    "print('Smape:', -grid_final.best_score_)"
   ]
  },
  {
   "cell_type": "markdown",
   "metadata": {},
   "source": [
    "<div class=\"alert alert-info\">\n",
    " <font color='Blue'>\n",
    "     <b>Rougher тест:"
   ]
  },
  {
   "cell_type": "code",
   "execution_count": null,
   "metadata": {},
   "outputs": [],
   "source": [
    "pipe_rougher = grid_rougher.best_estimator_\n",
    "\n",
    "pipe_rougher.fit(X_train_rougher, y_train_rougher)\n",
    "y_pred = pipe_rougher.predict(X_test_rougher)\n",
    "\n",
    "smape_rougher = smape(df.loc[X_test_rougher.index, 'rougher.output.recovery'], y_pred)\n",
    "smape_rougher"
   ]
  },
  {
   "cell_type": "markdown",
   "metadata": {},
   "source": [
    "<div class=\"alert alert-info\">\n",
    " <font color='Blue'>\n",
    "     <b>Rougher финал"
   ]
  },
  {
   "cell_type": "code",
   "execution_count": null,
   "metadata": {},
   "outputs": [],
   "source": [
    "pipe_final = grid_final.best_estimator_\n",
    "    \n",
    "pipe_final.fit(X_train_final, y_train_final)\n",
    "y_pred_final = pipe_final.predict(X_test_final)\n",
    "\n",
    "smape_final = smape(df.loc[X_test_rougher.index, 'final.output.recovery'],y_pred_final)\n",
    "smape_final"
   ]
  },
  {
   "cell_type": "markdown",
   "metadata": {},
   "source": [
    "<div class=\"alert alert-info\">\n",
    " <font color='Blue'>\n",
    "     <b>финальная smape по данной формуле"
   ]
  },
  {
   "cell_type": "code",
   "execution_count": null,
   "metadata": {},
   "outputs": [],
   "source": [
    "final_smape = 0.25*smape_rougher + 0.75*smape_final\n",
    "final_smape"
   ]
  },
  {
   "cell_type": "markdown",
   "metadata": {},
   "source": [
    "\n"
   ]
  },
  {
   "cell_type": "markdown",
   "metadata": {},
   "source": [
    "<div class=\"alert alert-info\">\n",
    " <font color='Blue'>\n",
    "     <b>DummyRegressor добавил, причем он показал лучший результат на 0.7"
   ]
  },
  {
   "cell_type": "code",
   "execution_count": 56,
   "metadata": {},
   "outputs": [],
   "source": [
    "dummy_regr = DummyRegressor(strategy='median')"
   ]
  },
  {
   "cell_type": "code",
   "execution_count": 57,
   "metadata": {},
   "outputs": [
    {
     "data": {
      "text/plain": [
       "DummyRegressor(strategy='median')"
      ]
     },
     "execution_count": 57,
     "metadata": {},
     "output_type": "execute_result"
    }
   ],
   "source": [
    "dummy_regr.fit(X_train_rougher, y_train_rougher)\n"
   ]
  },
  {
   "cell_type": "code",
   "execution_count": 58,
   "metadata": {},
   "outputs": [
    {
     "data": {
      "text/plain": [
       "8.52041350659244"
      ]
     },
     "execution_count": 58,
     "metadata": {},
     "output_type": "execute_result"
    }
   ],
   "source": [
    "y_pred = dummy_regr.predict(X_test_rougher)\n",
    "\n",
    "smape_rougher = smape(df.loc[X_test_rougher.index, 'rougher.output.recovery'], y_pred)\n",
    "smape_rougher"
   ]
  },
  {
   "cell_type": "code",
   "execution_count": 59,
   "metadata": {},
   "outputs": [
    {
     "data": {
      "text/plain": [
       "9.265806486673553"
      ]
     },
     "execution_count": 59,
     "metadata": {},
     "output_type": "execute_result"
    }
   ],
   "source": [
    "dummy_regr_final = DummyRegressor(strategy=\"median\")\n",
    "dummy_regr_final.fit(X_train_final, y_train_final)\n",
    "y_pred_final = dummy_regr_final.predict(X_test_final)\n",
    "\n",
    "smape_final = smape(df.loc[X_test_rougher.index, 'final.output.recovery'],y_pred_final)\n",
    "smape_final"
   ]
  },
  {
   "cell_type": "code",
   "execution_count": 60,
   "metadata": {},
   "outputs": [
    {
     "data": {
      "text/plain": [
       "9.079458241653274"
      ]
     },
     "execution_count": 60,
     "metadata": {},
     "output_type": "execute_result"
    }
   ],
   "source": [
    "final_smape = 0.25*smape_rougher + 0.75*smape_final\n",
    "final_smape"
   ]
  },
  {
   "cell_type": "markdown",
   "metadata": {},
   "source": [
    "<div class=\"alert alert-info\">\n",
    " <font color='Blue'>\n",
    "     <b>Вывод: итоговый smape получился 8.3 на лучшей модели, которой является Лассо(причем, как для rougher, так и для final выборок)."
   ]
  },
  {
   "cell_type": "markdown",
   "metadata": {},
   "source": [
    "\n"
   ]
  },
  {
   "cell_type": "markdown",
   "metadata": {},
   "source": [
    "<div class=\"alert alert-info\">\n",
    " <font color='Blue'>\n",
    "     <b>Добавлю: Константая модель выдает лучший результат Smape для данных выборок. Однако, этот отрыв не говорит о том, что модели обладают плохим качеством. Скорее, это говорит о том, что данные очень предсказуемы. "
   ]
  },
  {
   "cell_type": "markdown",
   "metadata": {},
   "source": [
    "<div class=\"alert alert-info\">\n",
    " <font color='Blue'>\n",
    "     <b>Вывод: Была проведена обработка данных, удалены ненужные признаки, исправлены аномалии(отрицательные значения, пропуски). В результате обучения и тестирования моделей машинного на обучения на выборках rough и final с целью предсказания эффективности восстановления в результате флотации и финального восстановления, пришли к выводу, что ввиду легкой предсказуемости данных лучше всего использовать простые модели, как dummyregressor. Показатели Smape для модели Лассо были рассчитаны с помощью k(5)-блочной валидации."
   ]
  },
  {
   "cell_type": "markdown",
   "metadata": {},
   "source": []
  },
  {
   "cell_type": "markdown",
   "metadata": {},
   "source": []
  },
  {
   "cell_type": "markdown",
   "metadata": {},
   "source": []
  },
  {
   "cell_type": "markdown",
   "metadata": {},
   "source": []
  },
  {
   "cell_type": "code",
   "execution_count": null,
   "metadata": {},
   "outputs": [],
   "source": []
  }
 ],
 "metadata": {
  "ExecuteTimeLog": [
   {
    "duration": 1446,
    "start_time": "2022-07-07T20:15:02.458Z"
   },
   {
    "duration": 1064,
    "start_time": "2022-07-07T20:16:22.687Z"
   },
   {
    "duration": 23,
    "start_time": "2022-07-07T20:16:30.634Z"
   },
   {
    "duration": 127,
    "start_time": "2022-07-07T20:34:24.388Z"
   },
   {
    "duration": 528,
    "start_time": "2022-07-07T20:34:27.072Z"
   },
   {
    "duration": 19,
    "start_time": "2022-07-07T20:34:27.601Z"
   },
   {
    "duration": 25,
    "start_time": "2022-07-07T20:34:41.541Z"
   },
   {
    "duration": 62,
    "start_time": "2022-07-08T08:57:09.468Z"
   },
   {
    "duration": 1759,
    "start_time": "2022-07-08T08:57:11.994Z"
   },
   {
    "duration": 1725,
    "start_time": "2022-07-08T08:57:13.755Z"
   },
   {
    "duration": 2006,
    "start_time": "2022-07-08T08:57:15.482Z"
   },
   {
    "duration": 29,
    "start_time": "2022-07-08T08:57:17.490Z"
   },
   {
    "duration": 12,
    "start_time": "2022-07-08T08:57:17.521Z"
   },
   {
    "duration": 4,
    "start_time": "2022-07-08T08:57:29.387Z"
   },
   {
    "duration": 80,
    "start_time": "2022-07-08T08:57:57.711Z"
   },
   {
    "duration": 9,
    "start_time": "2022-07-08T08:58:05.333Z"
   },
   {
    "duration": 18,
    "start_time": "2022-07-08T08:58:26.170Z"
   },
   {
    "duration": 4,
    "start_time": "2022-07-08T08:58:38.391Z"
   },
   {
    "duration": 402,
    "start_time": "2022-07-08T08:58:38.590Z"
   },
   {
    "duration": 415,
    "start_time": "2022-07-08T08:58:38.995Z"
   },
   {
    "duration": 24,
    "start_time": "2022-07-08T08:58:39.413Z"
   },
   {
    "duration": 16,
    "start_time": "2022-07-08T08:58:39.439Z"
   },
   {
    "duration": 5,
    "start_time": "2022-07-08T08:58:39.497Z"
   },
   {
    "duration": 10,
    "start_time": "2022-07-08T08:58:39.674Z"
   },
   {
    "duration": 14,
    "start_time": "2022-07-08T08:58:39.898Z"
   },
   {
    "duration": 14,
    "start_time": "2022-07-08T08:58:45.782Z"
   },
   {
    "duration": 8,
    "start_time": "2022-07-08T08:59:10.146Z"
   },
   {
    "duration": 4,
    "start_time": "2022-07-08T09:01:14.432Z"
   },
   {
    "duration": 33,
    "start_time": "2022-07-08T09:04:46.728Z"
   },
   {
    "duration": 18,
    "start_time": "2022-07-08T09:04:59.557Z"
   },
   {
    "duration": 1489,
    "start_time": "2022-07-08T09:31:38.400Z"
   },
   {
    "duration": 10653,
    "start_time": "2022-07-08T09:31:49.304Z"
   },
   {
    "duration": 8,
    "start_time": "2022-07-08T09:33:05.974Z"
   },
   {
    "duration": 344,
    "start_time": "2022-07-08T09:33:59.337Z"
   },
   {
    "duration": 6,
    "start_time": "2022-07-08T09:34:33.230Z"
   },
   {
    "duration": 7,
    "start_time": "2022-07-08T09:34:36.095Z"
   },
   {
    "duration": 8,
    "start_time": "2022-07-08T09:37:14.863Z"
   },
   {
    "duration": 7,
    "start_time": "2022-07-08T09:37:43.396Z"
   },
   {
    "duration": 6,
    "start_time": "2022-07-08T09:39:57.097Z"
   },
   {
    "duration": 12,
    "start_time": "2022-07-08T09:40:30.213Z"
   },
   {
    "duration": 5,
    "start_time": "2022-07-08T09:40:44.777Z"
   },
   {
    "duration": 10,
    "start_time": "2022-07-08T09:40:49.313Z"
   },
   {
    "duration": 9,
    "start_time": "2022-07-08T09:40:58.539Z"
   },
   {
    "duration": 9,
    "start_time": "2022-07-08T09:41:02.703Z"
   },
   {
    "duration": 10,
    "start_time": "2022-07-08T09:41:26.491Z"
   },
   {
    "duration": 5,
    "start_time": "2022-07-08T09:41:38.963Z"
   },
   {
    "duration": 13,
    "start_time": "2022-07-08T09:49:30.522Z"
   },
   {
    "duration": 15,
    "start_time": "2022-07-08T09:49:39.696Z"
   },
   {
    "duration": 15,
    "start_time": "2022-07-08T09:49:46.149Z"
   },
   {
    "duration": 6,
    "start_time": "2022-07-08T09:49:51.070Z"
   },
   {
    "duration": 5,
    "start_time": "2022-07-08T09:50:04.286Z"
   },
   {
    "duration": 7,
    "start_time": "2022-07-08T09:51:10.903Z"
   },
   {
    "duration": 18,
    "start_time": "2022-07-08T09:55:58.239Z"
   },
   {
    "duration": 4,
    "start_time": "2022-07-08T09:57:45.024Z"
   },
   {
    "duration": 5,
    "start_time": "2022-07-08T09:57:49.424Z"
   },
   {
    "duration": 6,
    "start_time": "2022-07-08T09:57:56.223Z"
   },
   {
    "duration": 13,
    "start_time": "2022-07-08T10:00:27.024Z"
   },
   {
    "duration": 9,
    "start_time": "2022-07-08T11:16:20.667Z"
   },
   {
    "duration": 3205,
    "start_time": "2022-07-08T11:16:27.936Z"
   },
   {
    "duration": 4,
    "start_time": "2022-07-08T11:17:37.131Z"
   },
   {
    "duration": 10,
    "start_time": "2022-07-08T11:18:41.652Z"
   },
   {
    "duration": 16,
    "start_time": "2022-07-08T11:18:45.748Z"
   },
   {
    "duration": 4,
    "start_time": "2022-07-08T11:20:33.968Z"
   },
   {
    "duration": 16,
    "start_time": "2022-07-08T11:20:46.067Z"
   },
   {
    "duration": 4,
    "start_time": "2022-07-08T11:20:56.616Z"
   },
   {
    "duration": 4,
    "start_time": "2022-07-08T11:20:56.913Z"
   },
   {
    "duration": 105,
    "start_time": "2022-07-08T11:23:26.650Z"
   },
   {
    "duration": 76,
    "start_time": "2022-07-08T11:23:43.648Z"
   },
   {
    "duration": 76,
    "start_time": "2022-07-08T11:23:45.613Z"
   },
   {
    "duration": 77,
    "start_time": "2022-07-08T11:23:57.125Z"
   },
   {
    "duration": 338,
    "start_time": "2022-07-08T11:24:33.639Z"
   },
   {
    "duration": 242,
    "start_time": "2022-07-08T11:25:07.086Z"
   },
   {
    "duration": 298,
    "start_time": "2022-07-08T11:25:27.404Z"
   },
   {
    "duration": 288,
    "start_time": "2022-07-08T11:26:21.974Z"
   },
   {
    "duration": 301,
    "start_time": "2022-07-08T11:27:07.756Z"
   },
   {
    "duration": 432,
    "start_time": "2022-07-08T11:27:11.247Z"
   },
   {
    "duration": 218,
    "start_time": "2022-07-08T11:27:23.513Z"
   },
   {
    "duration": 382,
    "start_time": "2022-07-08T11:27:32.273Z"
   },
   {
    "duration": 8,
    "start_time": "2022-07-08T11:29:28.048Z"
   },
   {
    "duration": 9,
    "start_time": "2022-07-08T11:31:06.986Z"
   },
   {
    "duration": 44,
    "start_time": "2022-07-08T20:49:24.777Z"
   },
   {
    "duration": 1461,
    "start_time": "2022-07-08T20:49:30.970Z"
   },
   {
    "duration": 1470,
    "start_time": "2022-07-08T20:49:32.434Z"
   },
   {
    "duration": 1749,
    "start_time": "2022-07-08T20:49:33.906Z"
   },
   {
    "duration": 27,
    "start_time": "2022-07-08T20:49:35.656Z"
   },
   {
    "duration": 7,
    "start_time": "2022-07-08T20:49:35.685Z"
   },
   {
    "duration": 8,
    "start_time": "2022-07-08T20:49:35.693Z"
   },
   {
    "duration": 9,
    "start_time": "2022-07-08T20:49:35.703Z"
   },
   {
    "duration": 14,
    "start_time": "2022-07-08T20:49:35.714Z"
   },
   {
    "duration": 4,
    "start_time": "2022-07-08T20:49:35.730Z"
   },
   {
    "duration": 124,
    "start_time": "2022-07-08T20:49:35.736Z"
   },
   {
    "duration": 0,
    "start_time": "2022-07-08T20:49:35.861Z"
   },
   {
    "duration": 0,
    "start_time": "2022-07-08T20:49:35.862Z"
   },
   {
    "duration": 0,
    "start_time": "2022-07-08T20:49:35.863Z"
   },
   {
    "duration": 0,
    "start_time": "2022-07-08T20:49:35.864Z"
   },
   {
    "duration": 0,
    "start_time": "2022-07-08T20:49:35.865Z"
   },
   {
    "duration": 0,
    "start_time": "2022-07-08T20:49:35.866Z"
   },
   {
    "duration": 0,
    "start_time": "2022-07-08T20:49:35.868Z"
   },
   {
    "duration": 0,
    "start_time": "2022-07-08T20:49:35.868Z"
   },
   {
    "duration": 0,
    "start_time": "2022-07-08T20:49:35.870Z"
   },
   {
    "duration": 0,
    "start_time": "2022-07-08T20:49:35.871Z"
   },
   {
    "duration": 0,
    "start_time": "2022-07-08T20:49:35.872Z"
   },
   {
    "duration": 0,
    "start_time": "2022-07-08T20:49:35.873Z"
   },
   {
    "duration": 1,
    "start_time": "2022-07-08T20:49:35.873Z"
   },
   {
    "duration": 0,
    "start_time": "2022-07-08T20:49:35.875Z"
   },
   {
    "duration": 0,
    "start_time": "2022-07-08T20:49:35.876Z"
   },
   {
    "duration": 0,
    "start_time": "2022-07-08T20:49:35.877Z"
   },
   {
    "duration": 0,
    "start_time": "2022-07-08T20:49:35.878Z"
   },
   {
    "duration": 0,
    "start_time": "2022-07-08T20:49:35.879Z"
   },
   {
    "duration": 0,
    "start_time": "2022-07-08T20:49:35.880Z"
   },
   {
    "duration": 0,
    "start_time": "2022-07-08T20:49:35.881Z"
   },
   {
    "duration": 0,
    "start_time": "2022-07-08T20:49:35.882Z"
   },
   {
    "duration": 0,
    "start_time": "2022-07-08T20:49:35.883Z"
   },
   {
    "duration": 0,
    "start_time": "2022-07-08T20:49:35.884Z"
   },
   {
    "duration": 260,
    "start_time": "2022-07-08T20:49:44.880Z"
   },
   {
    "duration": 4,
    "start_time": "2022-07-08T20:50:54.886Z"
   },
   {
    "duration": 352,
    "start_time": "2022-07-08T20:50:54.909Z"
   },
   {
    "duration": 349,
    "start_time": "2022-07-08T20:50:55.264Z"
   },
   {
    "duration": 23,
    "start_time": "2022-07-08T20:50:55.614Z"
   },
   {
    "duration": 8,
    "start_time": "2022-07-08T20:50:55.640Z"
   },
   {
    "duration": 5,
    "start_time": "2022-07-08T20:50:55.650Z"
   },
   {
    "duration": 9,
    "start_time": "2022-07-08T20:50:55.657Z"
   },
   {
    "duration": 37,
    "start_time": "2022-07-08T20:50:55.668Z"
   },
   {
    "duration": 5,
    "start_time": "2022-07-08T20:50:55.707Z"
   },
   {
    "duration": 19,
    "start_time": "2022-07-08T20:50:55.713Z"
   },
   {
    "duration": 8,
    "start_time": "2022-07-08T20:50:55.734Z"
   },
   {
    "duration": 327,
    "start_time": "2022-07-08T20:50:55.744Z"
   },
   {
    "duration": 5,
    "start_time": "2022-07-08T20:50:56.073Z"
   },
   {
    "duration": 9,
    "start_time": "2022-07-08T20:50:56.079Z"
   },
   {
    "duration": 11,
    "start_time": "2022-07-08T20:50:56.104Z"
   },
   {
    "duration": 0,
    "start_time": "2022-07-08T20:50:56.117Z"
   },
   {
    "duration": 0,
    "start_time": "2022-07-08T20:50:56.118Z"
   },
   {
    "duration": 0,
    "start_time": "2022-07-08T20:50:56.120Z"
   },
   {
    "duration": 0,
    "start_time": "2022-07-08T20:50:56.122Z"
   },
   {
    "duration": 0,
    "start_time": "2022-07-08T20:50:56.123Z"
   },
   {
    "duration": 6,
    "start_time": "2022-07-08T20:50:56.191Z"
   },
   {
    "duration": 3063,
    "start_time": "2022-07-08T20:50:56.621Z"
   },
   {
    "duration": 4,
    "start_time": "2022-07-08T20:50:59.685Z"
   },
   {
    "duration": 23,
    "start_time": "2022-07-08T20:50:59.690Z"
   },
   {
    "duration": 3,
    "start_time": "2022-07-08T20:50:59.715Z"
   },
   {
    "duration": 8,
    "start_time": "2022-07-08T20:50:59.719Z"
   },
   {
    "duration": 254,
    "start_time": "2022-07-08T20:50:59.729Z"
   },
   {
    "duration": 289,
    "start_time": "2022-07-08T20:50:59.985Z"
   },
   {
    "duration": 253,
    "start_time": "2022-07-08T20:51:00.276Z"
   },
   {
    "duration": 288,
    "start_time": "2022-07-08T20:51:00.531Z"
   },
   {
    "duration": 9,
    "start_time": "2022-07-08T20:51:00.821Z"
   },
   {
    "duration": 224,
    "start_time": "2022-07-08T20:51:00.882Z"
   },
   {
    "duration": 133,
    "start_time": "2022-07-08T20:53:37.312Z"
   },
   {
    "duration": 132,
    "start_time": "2022-07-08T20:53:46.912Z"
   },
   {
    "duration": 157,
    "start_time": "2022-07-08T20:53:51.761Z"
   },
   {
    "duration": 181,
    "start_time": "2022-07-08T20:54:11.605Z"
   },
   {
    "duration": 394,
    "start_time": "2022-07-08T20:54:19.894Z"
   },
   {
    "duration": 307,
    "start_time": "2022-07-08T20:54:29.974Z"
   },
   {
    "duration": 4,
    "start_time": "2022-07-08T21:19:59.033Z"
   },
   {
    "duration": 22,
    "start_time": "2022-07-08T21:39:21.764Z"
   },
   {
    "duration": 24,
    "start_time": "2022-07-08T21:39:28.130Z"
   },
   {
    "duration": 9,
    "start_time": "2022-07-08T21:43:16.289Z"
   },
   {
    "duration": 4,
    "start_time": "2022-07-08T21:43:23.821Z"
   },
   {
    "duration": 9,
    "start_time": "2022-07-08T21:45:03.886Z"
   },
   {
    "duration": 15,
    "start_time": "2022-07-08T21:45:10.272Z"
   },
   {
    "duration": 9,
    "start_time": "2022-07-08T21:45:17.034Z"
   },
   {
    "duration": 16,
    "start_time": "2022-07-08T21:45:30.070Z"
   },
   {
    "duration": 8,
    "start_time": "2022-07-08T21:46:42.467Z"
   },
   {
    "duration": 24,
    "start_time": "2022-07-08T21:47:35.885Z"
   },
   {
    "duration": 2,
    "start_time": "2022-07-08T21:48:07.287Z"
   },
   {
    "duration": 9,
    "start_time": "2022-07-08T21:48:28.761Z"
   },
   {
    "duration": 3,
    "start_time": "2022-07-08T21:48:43.152Z"
   },
   {
    "duration": 10,
    "start_time": "2022-07-08T21:48:43.534Z"
   },
   {
    "duration": 8,
    "start_time": "2022-07-08T21:48:55.202Z"
   },
   {
    "duration": 3,
    "start_time": "2022-07-08T21:49:00.431Z"
   },
   {
    "duration": 8,
    "start_time": "2022-07-08T21:49:00.653Z"
   },
   {
    "duration": 10,
    "start_time": "2022-07-08T21:49:01.452Z"
   },
   {
    "duration": 3,
    "start_time": "2022-07-08T21:49:22.605Z"
   },
   {
    "duration": 40,
    "start_time": "2022-07-08T21:49:23.095Z"
   },
   {
    "duration": 15,
    "start_time": "2022-07-08T21:51:56.009Z"
   },
   {
    "duration": 7,
    "start_time": "2022-07-08T21:53:08.465Z"
   },
   {
    "duration": 4,
    "start_time": "2022-07-08T21:53:17.854Z"
   },
   {
    "duration": 4,
    "start_time": "2022-07-08T21:55:22.005Z"
   },
   {
    "duration": 19,
    "start_time": "2022-07-08T22:00:06.371Z"
   },
   {
    "duration": 11,
    "start_time": "2022-07-08T22:04:59.861Z"
   },
   {
    "duration": 10,
    "start_time": "2022-07-08T22:05:08.650Z"
   },
   {
    "duration": 4,
    "start_time": "2022-07-08T22:05:18.592Z"
   },
   {
    "duration": 2,
    "start_time": "2022-07-08T22:05:49.758Z"
   },
   {
    "duration": 17,
    "start_time": "2022-07-08T22:05:50.045Z"
   },
   {
    "duration": 5,
    "start_time": "2022-07-08T22:05:50.991Z"
   },
   {
    "duration": 9,
    "start_time": "2022-07-08T22:05:51.316Z"
   },
   {
    "duration": 3,
    "start_time": "2022-07-08T22:05:51.898Z"
   },
   {
    "duration": 4,
    "start_time": "2022-07-08T22:06:10.838Z"
   },
   {
    "duration": 378,
    "start_time": "2022-07-08T22:06:10.864Z"
   },
   {
    "duration": 363,
    "start_time": "2022-07-08T22:06:11.244Z"
   },
   {
    "duration": 20,
    "start_time": "2022-07-08T22:06:11.609Z"
   },
   {
    "duration": 7,
    "start_time": "2022-07-08T22:06:11.631Z"
   },
   {
    "duration": 11,
    "start_time": "2022-07-08T22:06:11.640Z"
   },
   {
    "duration": 15,
    "start_time": "2022-07-08T22:06:11.652Z"
   },
   {
    "duration": 26,
    "start_time": "2022-07-08T22:06:11.668Z"
   },
   {
    "duration": 6,
    "start_time": "2022-07-08T22:06:11.696Z"
   },
   {
    "duration": 31,
    "start_time": "2022-07-08T22:06:11.704Z"
   },
   {
    "duration": 7,
    "start_time": "2022-07-08T22:06:11.737Z"
   },
   {
    "duration": 300,
    "start_time": "2022-07-08T22:06:11.746Z"
   },
   {
    "duration": 6,
    "start_time": "2022-07-08T22:06:12.048Z"
   },
   {
    "duration": 22,
    "start_time": "2022-07-08T22:06:12.055Z"
   },
   {
    "duration": 12,
    "start_time": "2022-07-08T22:06:12.079Z"
   },
   {
    "duration": 5,
    "start_time": "2022-07-08T22:06:12.112Z"
   },
   {
    "duration": 4,
    "start_time": "2022-07-08T22:06:12.278Z"
   },
   {
    "duration": 5,
    "start_time": "2022-07-08T22:06:12.436Z"
   },
   {
    "duration": 19,
    "start_time": "2022-07-08T22:06:12.919Z"
   },
   {
    "duration": 6,
    "start_time": "2022-07-08T22:06:13.077Z"
   },
   {
    "duration": 2883,
    "start_time": "2022-07-08T22:06:13.417Z"
   },
   {
    "duration": 3,
    "start_time": "2022-07-08T22:06:16.303Z"
   },
   {
    "duration": 22,
    "start_time": "2022-07-08T22:06:16.308Z"
   },
   {
    "duration": 3,
    "start_time": "2022-07-08T22:06:16.332Z"
   },
   {
    "duration": 11,
    "start_time": "2022-07-08T22:06:16.336Z"
   },
   {
    "duration": 20,
    "start_time": "2022-07-08T22:06:16.348Z"
   },
   {
    "duration": 9,
    "start_time": "2022-07-08T22:06:16.370Z"
   },
   {
    "duration": 23,
    "start_time": "2022-07-08T22:06:16.381Z"
   },
   {
    "duration": 274,
    "start_time": "2022-07-08T22:06:16.406Z"
   },
   {
    "duration": 231,
    "start_time": "2022-07-08T22:06:16.682Z"
   },
   {
    "duration": 337,
    "start_time": "2022-07-08T22:06:16.915Z"
   },
   {
    "duration": 267,
    "start_time": "2022-07-08T22:06:17.254Z"
   },
   {
    "duration": 9,
    "start_time": "2022-07-08T22:06:17.592Z"
   },
   {
    "duration": 204,
    "start_time": "2022-07-08T22:06:17.892Z"
   },
   {
    "duration": 263,
    "start_time": "2022-07-08T22:06:18.143Z"
   },
   {
    "duration": 278,
    "start_time": "2022-07-08T22:06:18.408Z"
   },
   {
    "duration": 3,
    "start_time": "2022-07-08T22:06:19.592Z"
   },
   {
    "duration": 4,
    "start_time": "2022-07-08T22:06:19.896Z"
   },
   {
    "duration": 24,
    "start_time": "2022-07-08T22:06:20.434Z"
   },
   {
    "duration": 23,
    "start_time": "2022-07-08T22:06:20.904Z"
   },
   {
    "duration": 4,
    "start_time": "2022-07-08T22:06:21.489Z"
   },
   {
    "duration": 14,
    "start_time": "2022-07-08T22:06:21.914Z"
   },
   {
    "duration": 1621,
    "start_time": "2022-07-08T22:06:22.817Z"
   },
   {
    "duration": 0,
    "start_time": "2022-07-08T22:06:24.440Z"
   },
   {
    "duration": 0,
    "start_time": "2022-07-08T22:06:24.441Z"
   },
   {
    "duration": 0,
    "start_time": "2022-07-08T22:06:24.442Z"
   },
   {
    "duration": 2,
    "start_time": "2022-07-08T22:06:24.941Z"
   },
   {
    "duration": 14,
    "start_time": "2022-07-08T22:06:25.142Z"
   },
   {
    "duration": 7,
    "start_time": "2022-07-08T22:06:50.615Z"
   },
   {
    "duration": 4,
    "start_time": "2022-07-08T22:06:51.137Z"
   },
   {
    "duration": 3,
    "start_time": "2022-07-08T22:06:51.390Z"
   },
   {
    "duration": 23,
    "start_time": "2022-07-08T22:06:51.688Z"
   },
   {
    "duration": 3,
    "start_time": "2022-07-08T22:10:01.800Z"
   },
   {
    "duration": 10,
    "start_time": "2022-07-08T22:10:27.838Z"
   },
   {
    "duration": 18,
    "start_time": "2022-07-08T22:10:37.426Z"
   },
   {
    "duration": 8,
    "start_time": "2022-07-08T22:10:51.393Z"
   },
   {
    "duration": 3,
    "start_time": "2022-07-08T22:11:19.098Z"
   },
   {
    "duration": 3,
    "start_time": "2022-07-08T22:11:19.411Z"
   },
   {
    "duration": 3,
    "start_time": "2022-07-08T22:13:19.790Z"
   },
   {
    "duration": 11,
    "start_time": "2022-07-08T22:13:32.565Z"
   },
   {
    "duration": 12,
    "start_time": "2022-07-08T22:13:36.621Z"
   },
   {
    "duration": 4,
    "start_time": "2022-07-08T22:13:45.728Z"
   },
   {
    "duration": 12,
    "start_time": "2022-07-08T22:13:45.971Z"
   },
   {
    "duration": 3,
    "start_time": "2022-07-08T22:13:46.280Z"
   },
   {
    "duration": 9,
    "start_time": "2022-07-08T22:13:46.681Z"
   },
   {
    "duration": 5,
    "start_time": "2022-07-08T22:14:09.268Z"
   },
   {
    "duration": 63,
    "start_time": "2022-07-08T22:14:09.445Z"
   },
   {
    "duration": 3,
    "start_time": "2022-07-08T22:14:14.669Z"
   },
   {
    "duration": 6,
    "start_time": "2022-07-08T22:14:14.953Z"
   },
   {
    "duration": 2,
    "start_time": "2022-07-08T22:14:15.271Z"
   },
   {
    "duration": 3,
    "start_time": "2022-07-08T22:14:15.628Z"
   },
   {
    "duration": 377165,
    "start_time": "2022-07-08T22:14:28.446Z"
   },
   {
    "duration": 92,
    "start_time": "2022-07-08T22:20:45.613Z"
   },
   {
    "duration": 11,
    "start_time": "2022-07-08T22:20:45.708Z"
   },
   {
    "duration": 393890,
    "start_time": "2022-07-08T22:20:45.722Z"
   },
   {
    "duration": 92,
    "start_time": "2022-07-08T22:27:19.614Z"
   },
   {
    "duration": 298,
    "start_time": "2022-07-08T22:27:19.707Z"
   },
   {
    "duration": 0,
    "start_time": "2022-07-08T22:27:20.007Z"
   },
   {
    "duration": 0,
    "start_time": "2022-07-08T22:27:20.008Z"
   },
   {
    "duration": 0,
    "start_time": "2022-07-08T22:27:20.009Z"
   },
   {
    "duration": 0,
    "start_time": "2022-07-08T22:27:20.011Z"
   },
   {
    "duration": 0,
    "start_time": "2022-07-08T22:27:20.012Z"
   },
   {
    "duration": 0,
    "start_time": "2022-07-08T22:27:20.014Z"
   },
   {
    "duration": 1314,
    "start_time": "2022-07-08T22:27:39.038Z"
   },
   {
    "duration": 5,
    "start_time": "2022-07-08T22:28:15.379Z"
   },
   {
    "duration": 91,
    "start_time": "2022-07-08T22:28:29.148Z"
   },
   {
    "duration": 80,
    "start_time": "2022-07-08T22:28:33.220Z"
   },
   {
    "duration": 8,
    "start_time": "2022-07-08T22:28:42.305Z"
   },
   {
    "duration": 9,
    "start_time": "2022-07-08T22:29:13.498Z"
   },
   {
    "duration": 5,
    "start_time": "2022-07-08T22:29:16.229Z"
   },
   {
    "duration": 4,
    "start_time": "2022-07-08T22:29:35.032Z"
   },
   {
    "duration": 4,
    "start_time": "2022-07-08T22:29:39.034Z"
   },
   {
    "duration": 5,
    "start_time": "2022-07-08T22:30:07.736Z"
   },
   {
    "duration": 5,
    "start_time": "2022-07-08T22:30:31.663Z"
   },
   {
    "duration": 330,
    "start_time": "2022-07-08T22:31:14.676Z"
   },
   {
    "duration": 76,
    "start_time": "2022-07-08T22:31:38.481Z"
   },
   {
    "duration": 2,
    "start_time": "2022-07-08T22:32:23.833Z"
   },
   {
    "duration": 77,
    "start_time": "2022-07-08T22:32:40.515Z"
   },
   {
    "duration": 10,
    "start_time": "2022-07-08T22:32:46.103Z"
   },
   {
    "duration": 262,
    "start_time": "2022-07-08T22:32:49.350Z"
   },
   {
    "duration": 346,
    "start_time": "2022-07-08T22:32:54.273Z"
   },
   {
    "duration": 4,
    "start_time": "2022-07-08T22:32:54.891Z"
   },
   {
    "duration": 69,
    "start_time": "2022-07-08T22:32:55.812Z"
   },
   {
    "duration": 5,
    "start_time": "2022-07-08T22:37:18.617Z"
   },
   {
    "duration": 5,
    "start_time": "2022-07-08T22:37:30.726Z"
   },
   {
    "duration": 329,
    "start_time": "2022-07-08T22:37:31.182Z"
   },
   {
    "duration": 323,
    "start_time": "2022-07-08T22:37:31.512Z"
   },
   {
    "duration": 21,
    "start_time": "2022-07-08T22:37:31.837Z"
   },
   {
    "duration": 7,
    "start_time": "2022-07-08T22:37:33.303Z"
   },
   {
    "duration": 4,
    "start_time": "2022-07-08T22:37:33.542Z"
   },
   {
    "duration": 8,
    "start_time": "2022-07-08T22:37:33.764Z"
   },
   {
    "duration": 14,
    "start_time": "2022-07-08T22:37:34.118Z"
   },
   {
    "duration": 6,
    "start_time": "2022-07-08T22:37:34.467Z"
   },
   {
    "duration": 6,
    "start_time": "2022-07-08T22:37:36.298Z"
   },
   {
    "duration": 265,
    "start_time": "2022-07-08T22:37:36.745Z"
   },
   {
    "duration": 9,
    "start_time": "2022-07-08T22:39:37.882Z"
   },
   {
    "duration": 4,
    "start_time": "2022-07-08T22:39:43.462Z"
   },
   {
    "duration": 2,
    "start_time": "2022-07-08T22:40:20.559Z"
   },
   {
    "duration": 4,
    "start_time": "2022-07-08T22:40:20.980Z"
   },
   {
    "duration": 3,
    "start_time": "2022-07-08T22:40:32.755Z"
   },
   {
    "duration": 4,
    "start_time": "2022-07-08T22:40:34.592Z"
   },
   {
    "duration": 4,
    "start_time": "2022-07-08T22:40:35.092Z"
   },
   {
    "duration": 9,
    "start_time": "2022-07-08T22:41:05.208Z"
   },
   {
    "duration": 9,
    "start_time": "2022-07-08T22:41:08.201Z"
   },
   {
    "duration": 4,
    "start_time": "2022-07-08T22:41:09.852Z"
   },
   {
    "duration": 269,
    "start_time": "2022-07-08T22:41:47.333Z"
   },
   {
    "duration": 3,
    "start_time": "2022-07-08T22:43:40.176Z"
   },
   {
    "duration": 4,
    "start_time": "2022-07-08T22:43:40.410Z"
   },
   {
    "duration": 13,
    "start_time": "2022-07-08T22:43:40.658Z"
   },
   {
    "duration": 4,
    "start_time": "2022-07-08T22:43:40.999Z"
   },
   {
    "duration": 246,
    "start_time": "2022-07-08T22:43:41.452Z"
   },
   {
    "duration": 4,
    "start_time": "2022-07-08T22:43:54.877Z"
   },
   {
    "duration": 4,
    "start_time": "2022-07-08T22:43:55.147Z"
   },
   {
    "duration": 9,
    "start_time": "2022-07-08T22:43:55.422Z"
   },
   {
    "duration": 4,
    "start_time": "2022-07-08T22:43:55.725Z"
   },
   {
    "duration": 254,
    "start_time": "2022-07-08T22:43:56.216Z"
   },
   {
    "duration": 4,
    "start_time": "2022-07-08T22:44:07.594Z"
   },
   {
    "duration": 8,
    "start_time": "2022-07-08T22:44:07.913Z"
   },
   {
    "duration": 5,
    "start_time": "2022-07-08T22:44:08.244Z"
   },
   {
    "duration": 294,
    "start_time": "2022-07-08T22:44:08.624Z"
   },
   {
    "duration": 4,
    "start_time": "2022-07-08T22:44:33.617Z"
   },
   {
    "duration": 3,
    "start_time": "2022-07-08T22:44:36.609Z"
   },
   {
    "duration": 4,
    "start_time": "2022-07-08T22:44:37.213Z"
   },
   {
    "duration": 5,
    "start_time": "2022-07-08T22:44:37.733Z"
   },
   {
    "duration": 8,
    "start_time": "2022-07-08T22:44:38.237Z"
   },
   {
    "duration": 4,
    "start_time": "2022-07-08T22:44:38.550Z"
   },
   {
    "duration": 408,
    "start_time": "2022-07-08T22:44:39.146Z"
   },
   {
    "duration": 4,
    "start_time": "2022-07-08T22:44:43.536Z"
   },
   {
    "duration": 4,
    "start_time": "2022-07-08T22:44:43.813Z"
   },
   {
    "duration": 7,
    "start_time": "2022-07-08T22:44:44.262Z"
   },
   {
    "duration": 4,
    "start_time": "2022-07-08T22:44:44.849Z"
   },
   {
    "duration": 276,
    "start_time": "2022-07-08T22:44:45.904Z"
   },
   {
    "duration": 3,
    "start_time": "2022-07-08T22:45:20.736Z"
   },
   {
    "duration": 3,
    "start_time": "2022-07-08T22:45:20.936Z"
   },
   {
    "duration": 4,
    "start_time": "2022-07-08T22:45:21.146Z"
   },
   {
    "duration": 7,
    "start_time": "2022-07-08T22:45:21.461Z"
   },
   {
    "duration": 4,
    "start_time": "2022-07-08T22:45:21.885Z"
   },
   {
    "duration": 273,
    "start_time": "2022-07-08T22:45:22.431Z"
   },
   {
    "duration": 82,
    "start_time": "2022-07-08T22:52:30.644Z"
   },
   {
    "duration": 9,
    "start_time": "2022-07-08T22:52:43.290Z"
   },
   {
    "duration": 198,
    "start_time": "2022-07-08T22:52:44.523Z"
   },
   {
    "duration": 2,
    "start_time": "2022-07-08T22:54:15.716Z"
   },
   {
    "duration": 99,
    "start_time": "2022-07-08T22:55:41.779Z"
   },
   {
    "duration": 1596,
    "start_time": "2022-07-09T06:10:17.990Z"
   },
   {
    "duration": 1261,
    "start_time": "2022-07-09T06:10:19.588Z"
   },
   {
    "duration": 709,
    "start_time": "2022-07-09T06:10:20.851Z"
   },
   {
    "duration": 27,
    "start_time": "2022-07-09T06:10:21.562Z"
   },
   {
    "duration": 8,
    "start_time": "2022-07-09T06:10:21.591Z"
   },
   {
    "duration": 58,
    "start_time": "2022-07-09T06:10:21.600Z"
   },
   {
    "duration": 16,
    "start_time": "2022-07-09T06:10:21.661Z"
   },
   {
    "duration": 15,
    "start_time": "2022-07-09T06:10:21.679Z"
   },
   {
    "duration": 6,
    "start_time": "2022-07-09T06:10:21.695Z"
   },
   {
    "duration": 60,
    "start_time": "2022-07-09T06:10:21.703Z"
   },
   {
    "duration": 376,
    "start_time": "2022-07-09T06:10:21.765Z"
   },
   {
    "duration": 5,
    "start_time": "2022-07-09T06:10:22.149Z"
   },
   {
    "duration": 11,
    "start_time": "2022-07-09T06:10:22.156Z"
   },
   {
    "duration": 6,
    "start_time": "2022-07-09T06:10:22.169Z"
   },
   {
    "duration": 11,
    "start_time": "2022-07-09T06:10:22.177Z"
   },
   {
    "duration": 8,
    "start_time": "2022-07-09T06:10:22.189Z"
   },
   {
    "duration": 54,
    "start_time": "2022-07-09T06:10:22.198Z"
   },
   {
    "duration": 27,
    "start_time": "2022-07-09T06:10:22.255Z"
   },
   {
    "duration": 6,
    "start_time": "2022-07-09T06:10:22.283Z"
   },
   {
    "duration": 3577,
    "start_time": "2022-07-09T06:10:22.290Z"
   },
   {
    "duration": 12,
    "start_time": "2022-07-09T06:10:25.869Z"
   },
   {
    "duration": 32,
    "start_time": "2022-07-09T06:10:25.883Z"
   },
   {
    "duration": 14,
    "start_time": "2022-07-09T06:10:25.917Z"
   },
   {
    "duration": 21,
    "start_time": "2022-07-09T06:10:25.933Z"
   },
   {
    "duration": 292,
    "start_time": "2022-07-09T06:10:25.955Z"
   },
   {
    "duration": 275,
    "start_time": "2022-07-09T06:10:26.249Z"
   },
   {
    "duration": 259,
    "start_time": "2022-07-09T06:10:26.538Z"
   },
   {
    "duration": 316,
    "start_time": "2022-07-09T06:10:26.809Z"
   },
   {
    "duration": 14,
    "start_time": "2022-07-09T06:10:27.127Z"
   },
   {
    "duration": 240,
    "start_time": "2022-07-09T06:10:27.148Z"
   },
   {
    "duration": 346,
    "start_time": "2022-07-09T06:10:27.390Z"
   },
   {
    "duration": 311,
    "start_time": "2022-07-09T06:10:27.738Z"
   },
   {
    "duration": 4,
    "start_time": "2022-07-09T06:10:28.051Z"
   },
   {
    "duration": 13,
    "start_time": "2022-07-09T06:10:28.057Z"
   },
   {
    "duration": 25,
    "start_time": "2022-07-09T06:10:28.072Z"
   },
   {
    "duration": 47,
    "start_time": "2022-07-09T06:10:28.099Z"
   },
   {
    "duration": 27,
    "start_time": "2022-07-09T06:10:28.148Z"
   },
   {
    "duration": 10,
    "start_time": "2022-07-09T06:10:28.177Z"
   },
   {
    "duration": 6,
    "start_time": "2022-07-09T06:10:28.189Z"
   },
   {
    "duration": 90,
    "start_time": "2022-07-09T06:10:28.196Z"
   },
   {
    "duration": 6,
    "start_time": "2022-07-09T06:10:28.288Z"
   },
   {
    "duration": 50,
    "start_time": "2022-07-09T06:10:28.296Z"
   },
   {
    "duration": 1437,
    "start_time": "2022-07-09T07:02:10.330Z"
   },
   {
    "duration": 359,
    "start_time": "2022-07-09T07:02:11.769Z"
   },
   {
    "duration": 379,
    "start_time": "2022-07-09T07:02:12.130Z"
   },
   {
    "duration": 34,
    "start_time": "2022-07-09T07:02:12.511Z"
   },
   {
    "duration": 8,
    "start_time": "2022-07-09T07:02:12.547Z"
   },
   {
    "duration": 10,
    "start_time": "2022-07-09T07:02:12.556Z"
   },
   {
    "duration": 11,
    "start_time": "2022-07-09T07:02:12.567Z"
   },
   {
    "duration": 19,
    "start_time": "2022-07-09T07:02:12.579Z"
   },
   {
    "duration": 8,
    "start_time": "2022-07-09T07:02:12.600Z"
   },
   {
    "duration": 16,
    "start_time": "2022-07-09T07:02:13.195Z"
   },
   {
    "duration": 344,
    "start_time": "2022-07-09T07:02:13.421Z"
   },
   {
    "duration": 5,
    "start_time": "2022-07-09T07:02:13.767Z"
   },
   {
    "duration": 7,
    "start_time": "2022-07-09T07:02:13.958Z"
   },
   {
    "duration": 5,
    "start_time": "2022-07-09T07:02:14.154Z"
   },
   {
    "duration": 4,
    "start_time": "2022-07-09T07:02:15.135Z"
   },
   {
    "duration": 7,
    "start_time": "2022-07-09T07:02:15.325Z"
   },
   {
    "duration": 8,
    "start_time": "2022-07-09T07:02:15.548Z"
   },
   {
    "duration": 16,
    "start_time": "2022-07-09T07:02:16.378Z"
   },
   {
    "duration": 19,
    "start_time": "2022-07-09T07:02:18.200Z"
   },
   {
    "duration": 3112,
    "start_time": "2022-07-09T07:02:18.388Z"
   },
   {
    "duration": 20,
    "start_time": "2022-07-09T07:02:21.514Z"
   },
   {
    "duration": 32,
    "start_time": "2022-07-09T07:02:21.536Z"
   },
   {
    "duration": 11,
    "start_time": "2022-07-09T07:02:21.570Z"
   },
   {
    "duration": 16,
    "start_time": "2022-07-09T07:02:21.583Z"
   },
   {
    "duration": 380,
    "start_time": "2022-07-09T07:02:21.603Z"
   },
   {
    "duration": 279,
    "start_time": "2022-07-09T07:02:21.985Z"
   },
   {
    "duration": 280,
    "start_time": "2022-07-09T07:02:22.266Z"
   },
   {
    "duration": 309,
    "start_time": "2022-07-09T07:02:22.548Z"
   },
   {
    "duration": 133,
    "start_time": "2022-07-09T07:02:23.948Z"
   },
   {
    "duration": 372,
    "start_time": "2022-07-09T07:02:50.170Z"
   },
   {
    "duration": 4,
    "start_time": "2022-07-09T07:03:12.772Z"
   },
   {
    "duration": 2,
    "start_time": "2022-07-09T07:03:14.856Z"
   },
   {
    "duration": 9,
    "start_time": "2022-07-09T07:03:15.476Z"
   },
   {
    "duration": 5,
    "start_time": "2022-07-09T07:03:16.452Z"
   },
   {
    "duration": 3,
    "start_time": "2022-07-09T07:03:16.777Z"
   },
   {
    "duration": 6,
    "start_time": "2022-07-09T07:03:17.128Z"
   },
   {
    "duration": 3,
    "start_time": "2022-07-09T07:03:18.885Z"
   },
   {
    "duration": 6,
    "start_time": "2022-07-09T07:03:19.595Z"
   },
   {
    "duration": 2,
    "start_time": "2022-07-09T07:03:19.936Z"
   },
   {
    "duration": 3,
    "start_time": "2022-07-09T07:03:22.436Z"
   },
   {
    "duration": 1524,
    "start_time": "2022-07-09T07:03:45.459Z"
   },
   {
    "duration": 374,
    "start_time": "2022-07-09T07:03:46.985Z"
   },
   {
    "duration": 369,
    "start_time": "2022-07-09T07:03:47.361Z"
   },
   {
    "duration": 27,
    "start_time": "2022-07-09T07:03:47.736Z"
   },
   {
    "duration": 7,
    "start_time": "2022-07-09T07:03:47.765Z"
   },
   {
    "duration": 7,
    "start_time": "2022-07-09T07:03:47.773Z"
   },
   {
    "duration": 10,
    "start_time": "2022-07-09T07:03:47.781Z"
   },
   {
    "duration": 20,
    "start_time": "2022-07-09T07:03:47.793Z"
   },
   {
    "duration": 34,
    "start_time": "2022-07-09T07:03:47.814Z"
   },
   {
    "duration": 11,
    "start_time": "2022-07-09T07:03:47.852Z"
   },
   {
    "duration": 361,
    "start_time": "2022-07-09T07:03:47.865Z"
   },
   {
    "duration": 7,
    "start_time": "2022-07-09T07:03:48.228Z"
   },
   {
    "duration": 19,
    "start_time": "2022-07-09T07:03:48.236Z"
   },
   {
    "duration": 5,
    "start_time": "2022-07-09T07:03:48.256Z"
   },
   {
    "duration": 8,
    "start_time": "2022-07-09T07:03:48.263Z"
   },
   {
    "duration": 8,
    "start_time": "2022-07-09T07:03:48.272Z"
   },
   {
    "duration": 21,
    "start_time": "2022-07-09T07:03:48.282Z"
   },
   {
    "duration": 27,
    "start_time": "2022-07-09T07:03:48.314Z"
   },
   {
    "duration": 17,
    "start_time": "2022-07-09T07:03:48.343Z"
   },
   {
    "duration": 3143,
    "start_time": "2022-07-09T07:03:54.587Z"
   },
   {
    "duration": 15,
    "start_time": "2022-07-09T07:03:57.733Z"
   },
   {
    "duration": 42,
    "start_time": "2022-07-09T07:03:57.749Z"
   },
   {
    "duration": 56,
    "start_time": "2022-07-09T07:03:57.793Z"
   },
   {
    "duration": 8,
    "start_time": "2022-07-09T07:03:57.851Z"
   },
   {
    "duration": 345,
    "start_time": "2022-07-09T07:03:57.860Z"
   },
   {
    "duration": 270,
    "start_time": "2022-07-09T07:03:58.207Z"
   },
   {
    "duration": 280,
    "start_time": "2022-07-09T07:03:58.478Z"
   },
   {
    "duration": 303,
    "start_time": "2022-07-09T07:03:58.760Z"
   },
   {
    "duration": 8,
    "start_time": "2022-07-09T07:03:59.066Z"
   },
   {
    "duration": 276,
    "start_time": "2022-07-09T07:03:59.076Z"
   },
   {
    "duration": 372,
    "start_time": "2022-07-09T07:03:59.353Z"
   },
   {
    "duration": 296,
    "start_time": "2022-07-09T07:03:59.732Z"
   },
   {
    "duration": 4,
    "start_time": "2022-07-09T07:04:00.030Z"
   },
   {
    "duration": 2,
    "start_time": "2022-07-09T07:04:00.557Z"
   },
   {
    "duration": 15,
    "start_time": "2022-07-09T07:04:01.624Z"
   },
   {
    "duration": 4,
    "start_time": "2022-07-09T07:04:02.990Z"
   },
   {
    "duration": 7,
    "start_time": "2022-07-09T07:04:03.924Z"
   },
   {
    "duration": 3,
    "start_time": "2022-07-09T07:04:04.850Z"
   },
   {
    "duration": 8,
    "start_time": "2022-07-09T07:04:11.030Z"
   },
   {
    "duration": 147,
    "start_time": "2022-07-09T07:04:18.995Z"
   },
   {
    "duration": 8,
    "start_time": "2022-07-09T07:04:19.342Z"
   },
   {
    "duration": 8,
    "start_time": "2022-07-09T07:04:29.796Z"
   },
   {
    "duration": 3,
    "start_time": "2022-07-09T07:04:34.245Z"
   },
   {
    "duration": 5,
    "start_time": "2022-07-09T07:04:35.035Z"
   },
   {
    "duration": 26,
    "start_time": "2022-07-09T07:04:35.843Z"
   },
   {
    "duration": 25,
    "start_time": "2022-07-09T07:05:53.372Z"
   },
   {
    "duration": 4,
    "start_time": "2022-07-09T07:06:01.575Z"
   },
   {
    "duration": 46,
    "start_time": "2022-07-09T07:07:00.697Z"
   },
   {
    "duration": 7,
    "start_time": "2022-07-09T07:07:01.425Z"
   },
   {
    "duration": 2,
    "start_time": "2022-07-09T07:07:08.042Z"
   },
   {
    "duration": 5,
    "start_time": "2022-07-09T07:07:08.340Z"
   },
   {
    "duration": 27,
    "start_time": "2022-07-09T07:07:08.645Z"
   },
   {
    "duration": 52,
    "start_time": "2022-07-09T07:07:09.000Z"
   },
   {
    "duration": 5,
    "start_time": "2022-07-09T07:07:09.387Z"
   },
   {
    "duration": 26,
    "start_time": "2022-07-09T07:07:48.424Z"
   },
   {
    "duration": 5,
    "start_time": "2022-07-09T07:07:57.499Z"
   },
   {
    "duration": 5,
    "start_time": "2022-07-09T07:07:57.829Z"
   },
   {
    "duration": 23,
    "start_time": "2022-07-09T07:07:58.048Z"
   },
   {
    "duration": 24,
    "start_time": "2022-07-09T07:07:58.765Z"
   },
   {
    "duration": 7,
    "start_time": "2022-07-09T07:07:59.216Z"
   },
   {
    "duration": 1516,
    "start_time": "2022-07-12T16:42:42.713Z"
   },
   {
    "duration": 921,
    "start_time": "2022-07-12T16:42:44.232Z"
   },
   {
    "duration": 533,
    "start_time": "2022-07-12T16:42:45.155Z"
   },
   {
    "duration": 23,
    "start_time": "2022-07-12T16:42:45.690Z"
   },
   {
    "duration": 7,
    "start_time": "2022-07-12T16:42:45.715Z"
   },
   {
    "duration": 7,
    "start_time": "2022-07-12T16:42:45.723Z"
   },
   {
    "duration": 9,
    "start_time": "2022-07-12T16:42:45.731Z"
   },
   {
    "duration": 15,
    "start_time": "2022-07-12T16:42:45.741Z"
   },
   {
    "duration": 5,
    "start_time": "2022-07-12T16:42:45.763Z"
   },
   {
    "duration": 10,
    "start_time": "2022-07-12T16:42:45.770Z"
   },
   {
    "duration": 297,
    "start_time": "2022-07-12T16:42:45.781Z"
   },
   {
    "duration": 6,
    "start_time": "2022-07-12T16:42:46.080Z"
   },
   {
    "duration": 13,
    "start_time": "2022-07-12T16:42:46.087Z"
   },
   {
    "duration": 7,
    "start_time": "2022-07-12T16:42:46.102Z"
   },
   {
    "duration": 5,
    "start_time": "2022-07-12T16:42:46.889Z"
   },
   {
    "duration": 5,
    "start_time": "2022-07-12T16:42:47.094Z"
   },
   {
    "duration": 6,
    "start_time": "2022-07-12T16:42:47.319Z"
   },
   {
    "duration": 17,
    "start_time": "2022-07-12T16:42:48.280Z"
   },
   {
    "duration": 6,
    "start_time": "2022-07-12T16:42:48.700Z"
   },
   {
    "duration": 2752,
    "start_time": "2022-07-12T16:42:49.140Z"
   },
   {
    "duration": 13,
    "start_time": "2022-07-12T16:42:51.894Z"
   },
   {
    "duration": 16,
    "start_time": "2022-07-12T16:42:53.485Z"
   },
   {
    "duration": 12,
    "start_time": "2022-07-12T16:42:53.639Z"
   },
   {
    "duration": 5,
    "start_time": "2022-07-12T16:43:12.788Z"
   },
   {
    "duration": 5,
    "start_time": "2022-07-12T16:43:22.991Z"
   }
  ],
  "kernelspec": {
   "display_name": "Python 3 (ipykernel)",
   "language": "python",
   "name": "python3"
  },
  "language_info": {
   "codemirror_mode": {
    "name": "ipython",
    "version": 3
   },
   "file_extension": ".py",
   "mimetype": "text/x-python",
   "name": "python",
   "nbconvert_exporter": "python",
   "pygments_lexer": "ipython3",
   "version": "3.11.4"
  },
  "toc": {
   "base_numbering": 1,
   "nav_menu": {},
   "number_sections": true,
   "sideBar": true,
   "skip_h1_title": true,
   "title_cell": "Содержание",
   "title_sidebar": "Contents",
   "toc_cell": true,
   "toc_position": {
    "height": "calc(100% - 180px)",
    "left": "10px",
    "top": "150px",
    "width": "274.398px"
   },
   "toc_section_display": true,
   "toc_window_display": true
  }
 },
 "nbformat": 4,
 "nbformat_minor": 2
}
